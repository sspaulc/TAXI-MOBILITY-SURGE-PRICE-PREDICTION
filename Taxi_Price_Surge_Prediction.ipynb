{
  "nbformat": 4,
  "nbformat_minor": 0,
  "metadata": {
    "colab": {
      "name": "Taxi Price Surge Prediction.ipynb",
      "provenance": [],
      "collapsed_sections": [],
      "authorship_tag": "ABX9TyOxkoHVsvvZAcq2sd/zKzSm",
      "include_colab_link": true
    },
    "kernelspec": {
      "name": "python3",
      "display_name": "Python 3"
    },
    "language_info": {
      "name": "python"
    }
  },
  "cells": [
    {
      "cell_type": "markdown",
      "metadata": {
        "id": "view-in-github",
        "colab_type": "text"
      },
      "source": [
        "<a href=\"https://colab.research.google.com/github/sspaulc/TAXI-MOBILITY-SURGE-PRICE-PREDICTION/blob/main/Taxi_Price_Surge_Prediction.ipynb\" target=\"_parent\"><img src=\"https://colab.research.google.com/assets/colab-badge.svg\" alt=\"Open In Colab\"/></a>"
      ]
    },
    {
      "cell_type": "markdown",
      "metadata": {
        "id": "4GyLrrPG69bb"
      },
      "source": [
        "Data provided by an Indian cab aggregator service Sigma Cabs. Their customers can download their app on smartphones and book a cab from anywhere in the cities they operate in. They, in turn, search for cabs from various service providers and provide the best option to their clients across available options. They have been in operation for a little less than a year now. During this period, they have captured surge pricing types from the service providers.\n",
        "The main objective is to build a predictive model, which could help them in predicting the surge pricing type proactively. This would in turn help them in matching the right cabs with the right customers quickly and efficiently.\n",
        "Trip_ID: ID for TRIP\n",
        "\n",
        "Trip_Distance: The distance for the trip requested by the customer\n",
        "\n",
        "TypeofCab: Category of the cab requested by the customer\n",
        "\n",
        "CustomerSinceMonths: Customer using cab services since n months; 0 month means the current month\n",
        "\n",
        "LifeStyleIndex: Proprietary index created by Sigma Cabs showing the lifestyle of the customer based on their behaviour\n",
        "\n",
        "ConfidenceLifeStyle_Index: Category showing confidence on the index mentioned above\n",
        "\n",
        "Destination_Type: Sigma Cabs divides any destination into one of the 14 categories.\n",
        "\n",
        "Customer_Rating: Average of lifetime ratings of the customer till date\n",
        "\n",
        "CancellationLast1Month: Number of trips cancelled by the customer in last 1 month\n",
        "\n",
        "Var1, Var2 and Var3: Continuous variables masked by the company. Can be used for modelling purposes\n",
        "\n",
        "Gender: Gender of the customer\n",
        "\n",
        "SurgePricingType: Target (can be of 3 types) - DV"
      ]
    },
    {
      "cell_type": "code",
      "metadata": {
        "id": "aqx9wltEPrIO"
      },
      "source": [
        "import numpy as np\n",
        "\n",
        "import pandas as pd"
      ],
      "execution_count": 4,
      "outputs": []
    },
    {
      "cell_type": "code",
      "metadata": {
        "id": "4iPZpkkfPPKB"
      },
      "source": [
        "#Accessing the data"
      ],
      "execution_count": 5,
      "outputs": []
    },
    {
      "cell_type": "code",
      "metadata": {
        "colab": {
          "base_uri": "https://localhost:8080/"
        },
        "id": "zMfAWyGtCJrS",
        "outputId": "b8198b2c-555e-493c-b17a-699ad9c342a9"
      },
      "source": [
        "from google.colab import drive\n",
        "drive.mount('/content/gdrive')"
      ],
      "execution_count": 3,
      "outputs": [
        {
          "output_type": "stream",
          "text": [
            "Go to this URL in a browser: https://accounts.google.com/o/oauth2/auth?client_id=947318989803-6bn6qk8qdgf4n4g3pfee6491hc0brc4i.apps.googleusercontent.com&redirect_uri=urn%3aietf%3awg%3aoauth%3a2.0%3aoob&scope=email%20https%3a%2f%2fwww.googleapis.com%2fauth%2fdocs.test%20https%3a%2f%2fwww.googleapis.com%2fauth%2fdrive%20https%3a%2f%2fwww.googleapis.com%2fauth%2fdrive.photos.readonly%20https%3a%2f%2fwww.googleapis.com%2fauth%2fpeopleapi.readonly%20https%3a%2f%2fwww.googleapis.com%2fauth%2fdrive.activity.readonly%20https%3a%2f%2fwww.googleapis.com%2fauth%2fexperimentsandconfigs%20https%3a%2f%2fwww.googleapis.com%2fauth%2fphotos.native&response_type=code\n",
            "\n",
            "Enter your authorization code:\n",
            "4/1AY0e-g5HBuB5cVJ12TL1EsQbkw4MIyn4twBbosryGZWsc1WCU3xz784RJtg\n",
            "Mounted at /content/gdrive\n"
          ],
          "name": "stdout"
        }
      ]
    },
    {
      "cell_type": "code",
      "metadata": {
        "id": "nHEsmFeIPM9j"
      },
      "source": [
        "data= pd.read_csv(\"/content/gdrive/MyDrive/AlmaBetter/Almabetter/Capstone Projects/Taxi Mobility Surge Price Prediction/data_sigma_cabs.csv\")"
      ],
      "execution_count": 6,
      "outputs": []
    },
    {
      "cell_type": "markdown",
      "metadata": {
        "id": "E1hdqhSFWKwd"
      },
      "source": [
        "Performing EDA to understand the data better."
      ]
    },
    {
      "cell_type": "code",
      "metadata": {
        "id": "iOdTeOoEYv5o"
      },
      "source": [
        "import matplotlib.pyplot as plt\n"
      ],
      "execution_count": 7,
      "outputs": []
    },
    {
      "cell_type": "code",
      "metadata": {
        "id": "gZcv9Z3XPpVB"
      },
      "source": [
        "#information on null values\n",
        "\n",
        "import missingno as msno\n",
        "%matplotlib inline"
      ],
      "execution_count": 8,
      "outputs": []
    },
    {
      "cell_type": "code",
      "metadata": {
        "colab": {
          "base_uri": "https://localhost:8080/",
          "height": 609
        },
        "id": "NKuNhvK9QLnB",
        "outputId": "169b0705-a233-4102-bff9-c723fc868c09"
      },
      "source": [
        "msno.matrix(data)"
      ],
      "execution_count": 9,
      "outputs": [
        {
          "output_type": "execute_result",
          "data": {
            "text/plain": [
              "<matplotlib.axes._subplots.AxesSubplot at 0x7f6134d85bd0>"
            ]
          },
          "metadata": {
            "tags": []
          },
          "execution_count": 9
        },
        {
          "output_type": "display_data",
          "data": {
            "image/png": "[encoded data removed]",
            "text/plain": [
              "<Figure size 1800x720 with 2 Axes>"
            ]
          },
          "metadata": {
            "tags": [],
            "needs_background": "light"
          }
        }
      ]
    },
    {
      "cell_type": "code",
      "metadata": {
        "colab": {
          "base_uri": "https://localhost:8080/",
          "height": 671
        },
        "id": "G84LjWYrQV_l",
        "outputId": "80ace034-652f-4b24-c3a8-f5d3097c734a"
      },
      "source": [
        "msno.bar(data)"
      ],
      "execution_count": 10,
      "outputs": [
        {
          "output_type": "execute_result",
          "data": {
            "text/plain": [
              "<matplotlib.axes._subplots.AxesSubplot at 0x7f6134cf4110>"
            ]
          },
          "metadata": {
            "tags": []
          },
          "execution_count": 10
        },
        {
          "output_type": "display_data",
          "data": {
            "image/png": "[encoded data removed]",
            "text/plain": [
              "<Figure size 1728x720 with 3 Axes>"
            ]
          },
          "metadata": {
            "tags": [],
            "needs_background": "light"
          }
        }
      ]
    },
    {
      "cell_type": "markdown",
      "metadata": {
        "id": "ByPvqDsKW4K8"
      },
      "source": [
        "Looking at the correlation heat map to understand the correlation between variables wrt surge pricing."
      ]
    },
    {
      "cell_type": "code",
      "metadata": {
        "colab": {
          "base_uri": "https://localhost:8080/",
          "height": 407
        },
        "id": "viBuwNp-Wm5N",
        "outputId": "d6712c94-0d5c-401c-cd69-297aa4afe6c0"
      },
      "source": [
        "import seaborn as sns\n",
        "\n",
        "sns.heatmap(data.corr(),annot= True)"
      ],
      "execution_count": 11,
      "outputs": [
        {
          "output_type": "execute_result",
          "data": {
            "text/plain": [
              "<matplotlib.axes._subplots.AxesSubplot at 0x7f612bc744d0>"
            ]
          },
          "metadata": {
            "tags": []
          },
          "execution_count": 11
        },
        {
          "output_type": "display_data",
          "data": {
            "image/png": "[encoded data removed]",
            "text/plain": [
              "<Figure size 432x288 with 2 Axes>"
            ]
          },
          "metadata": {
            "tags": [],
            "needs_background": "light"
          }
        }
      ]
    },
    {
      "cell_type": "markdown",
      "metadata": {
        "id": "ZP0h7i9MqE16"
      },
      "source": [
        "#Data Cleaning."
      ]
    },
    {
      "cell_type": "markdown",
      "metadata": {
        "id": "THuoZ8IkQxPX"
      },
      "source": [
        "Columns to drop:\n",
        "\n",
        "1. Trip Id- this is unique for every observation and this doesn't effect our analysis much.\n",
        "\n",
        "2. Var 1- more than 40% of the column values are null with very low correlation with the surge price"
      ]
    },
    {
      "cell_type": "code",
      "metadata": {
        "id": "bxOmLfzvQnDc"
      },
      "source": [
        "#Dropping not needed columns\n",
        "\n",
        "data.drop(columns=['Trip_ID','Var1'],inplace= True)"
      ],
      "execution_count": 12,
      "outputs": []
    },
    {
      "cell_type": "code",
      "metadata": {
        "colab": {
          "base_uri": "https://localhost:8080/",
          "height": 314
        },
        "id": "jKn7HyqURtAn",
        "outputId": "8c42e279-0194-45b3-c176-f30972307c87"
      },
      "source": [
        "data.describe()"
      ],
      "execution_count": 13,
      "outputs": [
        {
          "output_type": "execute_result",
          "data": {
            "text/html": [
              "<div>\n",
              "<style scoped>\n",
              "    .dataframe tbody tr th:only-of-type {\n",
              "        vertical-align: middle;\n",
              "    }\n",
              "\n",
              "    .dataframe tbody tr th {\n",
              "        vertical-align: top;\n",
              "    }\n",
              "\n",
              "    .dataframe thead th {\n",
              "        text-align: right;\n",
              "    }\n",
              "</style>\n",
              "<table border=\"1\" class=\"dataframe\">\n",
              "  <thead>\n",
              "    <tr style=\"text-align: right;\">\n",
              "      <th></th>\n",
              "      <th>Trip_Distance</th>\n",
              "      <th>Customer_Since_Months</th>\n",
              "      <th>Life_Style_Index</th>\n",
              "      <th>Customer_Rating</th>\n",
              "      <th>Cancellation_Last_1Month</th>\n",
              "      <th>Var2</th>\n",
              "      <th>Var3</th>\n",
              "      <th>Surge_Pricing_Type</th>\n",
              "    </tr>\n",
              "  </thead>\n",
              "  <tbody>\n",
              "    <tr>\n",
              "      <th>count</th>\n",
              "      <td>131662.000000</td>\n",
              "      <td>125742.000000</td>\n",
              "      <td>111469.000000</td>\n",
              "      <td>131662.000000</td>\n",
              "      <td>131662.000000</td>\n",
              "      <td>131662.000000</td>\n",
              "      <td>131662.000000</td>\n",
              "      <td>131662.000000</td>\n",
              "    </tr>\n",
              "    <tr>\n",
              "      <th>mean</th>\n",
              "      <td>44.200909</td>\n",
              "      <td>6.016661</td>\n",
              "      <td>2.802064</td>\n",
              "      <td>2.849458</td>\n",
              "      <td>0.782838</td>\n",
              "      <td>51.202800</td>\n",
              "      <td>75.099019</td>\n",
              "      <td>2.155747</td>\n",
              "    </tr>\n",
              "    <tr>\n",
              "      <th>std</th>\n",
              "      <td>25.522882</td>\n",
              "      <td>3.626887</td>\n",
              "      <td>0.225796</td>\n",
              "      <td>0.980675</td>\n",
              "      <td>1.037559</td>\n",
              "      <td>4.986142</td>\n",
              "      <td>11.578278</td>\n",
              "      <td>0.738164</td>\n",
              "    </tr>\n",
              "    <tr>\n",
              "      <th>min</th>\n",
              "      <td>0.310000</td>\n",
              "      <td>0.000000</td>\n",
              "      <td>1.596380</td>\n",
              "      <td>0.001250</td>\n",
              "      <td>0.000000</td>\n",
              "      <td>40.000000</td>\n",
              "      <td>52.000000</td>\n",
              "      <td>1.000000</td>\n",
              "    </tr>\n",
              "    <tr>\n",
              "      <th>25%</th>\n",
              "      <td>24.580000</td>\n",
              "      <td>3.000000</td>\n",
              "      <td>2.654730</td>\n",
              "      <td>2.152500</td>\n",
              "      <td>0.000000</td>\n",
              "      <td>48.000000</td>\n",
              "      <td>67.000000</td>\n",
              "      <td>2.000000</td>\n",
              "    </tr>\n",
              "    <tr>\n",
              "      <th>50%</th>\n",
              "      <td>38.200000</td>\n",
              "      <td>6.000000</td>\n",
              "      <td>2.798050</td>\n",
              "      <td>2.895000</td>\n",
              "      <td>0.000000</td>\n",
              "      <td>50.000000</td>\n",
              "      <td>74.000000</td>\n",
              "      <td>2.000000</td>\n",
              "    </tr>\n",
              "    <tr>\n",
              "      <th>75%</th>\n",
              "      <td>60.730000</td>\n",
              "      <td>10.000000</td>\n",
              "      <td>2.946780</td>\n",
              "      <td>3.582500</td>\n",
              "      <td>1.000000</td>\n",
              "      <td>54.000000</td>\n",
              "      <td>82.000000</td>\n",
              "      <td>3.000000</td>\n",
              "    </tr>\n",
              "    <tr>\n",
              "      <th>max</th>\n",
              "      <td>109.230000</td>\n",
              "      <td>10.000000</td>\n",
              "      <td>4.875110</td>\n",
              "      <td>5.000000</td>\n",
              "      <td>8.000000</td>\n",
              "      <td>124.000000</td>\n",
              "      <td>206.000000</td>\n",
              "      <td>3.000000</td>\n",
              "    </tr>\n",
              "  </tbody>\n",
              "</table>\n",
              "</div>"
            ],
            "text/plain": [
              "       Trip_Distance  Customer_Since_Months  ...           Var3  Surge_Pricing_Type\n",
              "count  131662.000000          125742.000000  ...  131662.000000       131662.000000\n",
              "mean       44.200909               6.016661  ...      75.099019            2.155747\n",
              "std        25.522882               3.626887  ...      11.578278            0.738164\n",
              "min         0.310000               0.000000  ...      52.000000            1.000000\n",
              "25%        24.580000               3.000000  ...      67.000000            2.000000\n",
              "50%        38.200000               6.000000  ...      74.000000            2.000000\n",
              "75%        60.730000              10.000000  ...      82.000000            3.000000\n",
              "max       109.230000              10.000000  ...     206.000000            3.000000\n",
              "\n",
              "[8 rows x 8 columns]"
            ]
          },
          "metadata": {
            "tags": []
          },
          "execution_count": 13
        }
      ]
    },
    {
      "cell_type": "code",
      "metadata": {
        "colab": {
          "base_uri": "https://localhost:8080/",
          "height": 161
        },
        "id": "GXMXYK4mNdFD",
        "outputId": "9748cb56-1873-4569-ec39-0a94cb88f074"
      },
      "source": [
        "data.head(3)"
      ],
      "execution_count": 14,
      "outputs": [
        {
          "output_type": "execute_result",
          "data": {
            "text/html": [
              "<div>\n",
              "<style scoped>\n",
              "    .dataframe tbody tr th:only-of-type {\n",
              "        vertical-align: middle;\n",
              "    }\n",
              "\n",
              "    .dataframe tbody tr th {\n",
              "        vertical-align: top;\n",
              "    }\n",
              "\n",
              "    .dataframe thead th {\n",
              "        text-align: right;\n",
              "    }\n",
              "</style>\n",
              "<table border=\"1\" class=\"dataframe\">\n",
              "  <thead>\n",
              "    <tr style=\"text-align: right;\">\n",
              "      <th></th>\n",
              "      <th>Trip_Distance</th>\n",
              "      <th>Type_of_Cab</th>\n",
              "      <th>Customer_Since_Months</th>\n",
              "      <th>Life_Style_Index</th>\n",
              "      <th>Confidence_Life_Style_Index</th>\n",
              "      <th>Destination_Type</th>\n",
              "      <th>Customer_Rating</th>\n",
              "      <th>Cancellation_Last_1Month</th>\n",
              "      <th>Var2</th>\n",
              "      <th>Var3</th>\n",
              "      <th>Gender</th>\n",
              "      <th>Surge_Pricing_Type</th>\n",
              "    </tr>\n",
              "  </thead>\n",
              "  <tbody>\n",
              "    <tr>\n",
              "      <th>0</th>\n",
              "      <td>6.77</td>\n",
              "      <td>B</td>\n",
              "      <td>1.0</td>\n",
              "      <td>2.42769</td>\n",
              "      <td>A</td>\n",
              "      <td>A</td>\n",
              "      <td>3.90500</td>\n",
              "      <td>0</td>\n",
              "      <td>46</td>\n",
              "      <td>60</td>\n",
              "      <td>Female</td>\n",
              "      <td>2</td>\n",
              "    </tr>\n",
              "    <tr>\n",
              "      <th>1</th>\n",
              "      <td>29.47</td>\n",
              "      <td>B</td>\n",
              "      <td>10.0</td>\n",
              "      <td>2.78245</td>\n",
              "      <td>B</td>\n",
              "      <td>A</td>\n",
              "      <td>3.45000</td>\n",
              "      <td>0</td>\n",
              "      <td>56</td>\n",
              "      <td>78</td>\n",
              "      <td>Male</td>\n",
              "      <td>2</td>\n",
              "    </tr>\n",
              "    <tr>\n",
              "      <th>2</th>\n",
              "      <td>41.58</td>\n",
              "      <td>NaN</td>\n",
              "      <td>10.0</td>\n",
              "      <td>NaN</td>\n",
              "      <td>NaN</td>\n",
              "      <td>E</td>\n",
              "      <td>3.50125</td>\n",
              "      <td>2</td>\n",
              "      <td>56</td>\n",
              "      <td>77</td>\n",
              "      <td>Male</td>\n",
              "      <td>2</td>\n",
              "    </tr>\n",
              "  </tbody>\n",
              "</table>\n",
              "</div>"
            ],
            "text/plain": [
              "   Trip_Distance Type_of_Cab  ...  Gender  Surge_Pricing_Type\n",
              "0           6.77           B  ...  Female                   2\n",
              "1          29.47           B  ...    Male                   2\n",
              "2          41.58         NaN  ...    Male                   2\n",
              "\n",
              "[3 rows x 12 columns]"
            ]
          },
          "metadata": {
            "tags": []
          },
          "execution_count": 14
        }
      ]
    },
    {
      "cell_type": "code",
      "metadata": {
        "colab": {
          "base_uri": "https://localhost:8080/"
        },
        "id": "eDaQYH1ORz99",
        "outputId": "ca5a3050-8bf7-4529-8671-b4c23df1db58"
      },
      "source": [
        "#I'll try to understand the lifestyle index better\n",
        "data['Life_Style_Index'].describe()"
      ],
      "execution_count": 15,
      "outputs": [
        {
          "output_type": "execute_result",
          "data": {
            "text/plain": [
              "count    111469.000000\n",
              "mean          2.802064\n",
              "std           0.225796\n",
              "min           1.596380\n",
              "25%           2.654730\n",
              "50%           2.798050\n",
              "75%           2.946780\n",
              "max           4.875110\n",
              "Name: Life_Style_Index, dtype: float64"
            ]
          },
          "metadata": {
            "tags": []
          },
          "execution_count": 15
        }
      ]
    },
    {
      "cell_type": "code",
      "metadata": {
        "id": "dkDY32ViS2E_"
      },
      "source": [
        "#To put them as categorical values to understand which lifestyle has most effect in price surge\n",
        "\n",
        "def lifestyle(x):\n",
        "  if x>2.9:\n",
        "     return 'high'\n",
        "  elif x<=2.9 and x>2.6:\n",
        "    return 'medium'\n",
        "  else:\n",
        "    return 'low'\n"
      ],
      "execution_count": 16,
      "outputs": []
    },
    {
      "cell_type": "code",
      "metadata": {
        "id": "6IW0qzPiUdG2"
      },
      "source": [
        "data['Life_Style_Category']= data['Life_Style_Index'].apply(lifestyle)"
      ],
      "execution_count": 17,
      "outputs": []
    },
    {
      "cell_type": "code",
      "metadata": {
        "colab": {
          "base_uri": "https://localhost:8080/",
          "height": 329
        },
        "id": "6r6k_0O1Ut8M",
        "outputId": "07cba68c-2a13-4d7f-a6bb-70551a48592e"
      },
      "source": [
        "data['Life_Style_Category'].value_counts().plot(kind='bar',color= 'black')\n",
        "\n",
        "plt.title(' Category the Life Style lies in')"
      ],
      "execution_count": 18,
      "outputs": [
        {
          "output_type": "execute_result",
          "data": {
            "text/plain": [
              "Text(0.5, 1.0, ' Category the Life Style lies in')"
            ]
          },
          "metadata": {
            "tags": []
          },
          "execution_count": 18
        },
        {
          "output_type": "display_data",
          "data": {
            "image/png": "[encoded data removed]",
            "text/plain": [
              "<Figure size 432x288 with 1 Axes>"
            ]
          },
          "metadata": {
            "tags": [],
            "needs_background": "light"
          }
        }
      ]
    },
    {
      "cell_type": "markdown",
      "metadata": {
        "id": "VwaRYBEiV3Jj"
      },
      "source": [
        "Most of the life style of the customers lie in the medium kind of lifestyle."
      ]
    },
    {
      "cell_type": "code",
      "metadata": {
        "colab": {
          "base_uri": "https://localhost:8080/"
        },
        "id": "C2H6nf2tY_2T",
        "outputId": "ad9c01c5-fbb8-4bfa-edb4-235d8a3d738b"
      },
      "source": [
        "data.info()"
      ],
      "execution_count": 19,
      "outputs": [
        {
          "output_type": "stream",
          "text": [
            "<class 'pandas.core.frame.DataFrame'>\n",
            "RangeIndex: 131662 entries, 0 to 131661\n",
            "Data columns (total 13 columns):\n",
            " #   Column                       Non-Null Count   Dtype  \n",
            "---  ------                       --------------   -----  \n",
            " 0   Trip_Distance                131662 non-null  float64\n",
            " 1   Type_of_Cab                  111452 non-null  object \n",
            " 2   Customer_Since_Months        125742 non-null  float64\n",
            " 3   Life_Style_Index             111469 non-null  float64\n",
            " 4   Confidence_Life_Style_Index  111469 non-null  object \n",
            " 5   Destination_Type             131662 non-null  object \n",
            " 6   Customer_Rating              131662 non-null  float64\n",
            " 7   Cancellation_Last_1Month     131662 non-null  int64  \n",
            " 8   Var2                         131662 non-null  int64  \n",
            " 9   Var3                         131662 non-null  int64  \n",
            " 10  Gender                       131662 non-null  object \n",
            " 11  Surge_Pricing_Type           131662 non-null  int64  \n",
            " 12  Life_Style_Category          131662 non-null  object \n",
            "dtypes: float64(4), int64(4), object(5)\n",
            "memory usage: 13.1+ MB\n"
          ],
          "name": "stdout"
        }
      ]
    },
    {
      "cell_type": "code",
      "metadata": {
        "id": "79h1OSajWmX4"
      },
      "source": [
        "#Dropping nan values for simplicity sake\n",
        "\n",
        "data_copy= data.copy()\n",
        "\n",
        "data.dropna(subset = ['Type_of_Cab', 'Customer_Since_Months', 'Confidence_Life_Style_Index','Life_Style_Index'],inplace= True)"
      ],
      "execution_count": 20,
      "outputs": []
    },
    {
      "cell_type": "code",
      "metadata": {
        "colab": {
          "base_uri": "https://localhost:8080/"
        },
        "id": "gI7qCBYHXIPr",
        "outputId": "b8bba6a9-dc5f-4702-a6ea-f69f795105aa"
      },
      "source": [
        "data.info()"
      ],
      "execution_count": 21,
      "outputs": [
        {
          "output_type": "stream",
          "text": [
            "<class 'pandas.core.frame.DataFrame'>\n",
            "Int64Index: 90052 entries, 0 to 131661\n",
            "Data columns (total 13 columns):\n",
            " #   Column                       Non-Null Count  Dtype  \n",
            "---  ------                       --------------  -----  \n",
            " 0   Trip_Distance                90052 non-null  float64\n",
            " 1   Type_of_Cab                  90052 non-null  object \n",
            " 2   Customer_Since_Months        90052 non-null  float64\n",
            " 3   Life_Style_Index             90052 non-null  float64\n",
            " 4   Confidence_Life_Style_Index  90052 non-null  object \n",
            " 5   Destination_Type             90052 non-null  object \n",
            " 6   Customer_Rating              90052 non-null  float64\n",
            " 7   Cancellation_Last_1Month     90052 non-null  int64  \n",
            " 8   Var2                         90052 non-null  int64  \n",
            " 9   Var3                         90052 non-null  int64  \n",
            " 10  Gender                       90052 non-null  object \n",
            " 11  Surge_Pricing_Type           90052 non-null  int64  \n",
            " 12  Life_Style_Category          90052 non-null  object \n",
            "dtypes: float64(4), int64(4), object(5)\n",
            "memory usage: 9.6+ MB\n"
          ],
          "name": "stdout"
        }
      ]
    },
    {
      "cell_type": "code",
      "metadata": {
        "colab": {
          "base_uri": "https://localhost:8080/",
          "height": 311
        },
        "id": "JTIAe3TiXUOY",
        "outputId": "895973b1-fc68-4c90-d460-76030c0bdcf3"
      },
      "source": [
        "data['Customer_Since_Months'].value_counts().plot(kind='bar',color='red')\n",
        "\n",
        "plt.title('Customer Since Months')"
      ],
      "execution_count": 22,
      "outputs": [
        {
          "output_type": "execute_result",
          "data": {
            "text/plain": [
              "Text(0.5, 1.0, 'Customer Since Months')"
            ]
          },
          "metadata": {
            "tags": []
          },
          "execution_count": 22
        },
        {
          "output_type": "display_data",
          "data": {
            "image/png": "[encoded data removed]",
            "text/plain": [
              "<Figure size 432x288 with 1 Axes>"
            ]
          },
          "metadata": {
            "tags": [],
            "needs_background": "light"
          }
        }
      ]
    },
    {
      "cell_type": "markdown",
      "metadata": {
        "id": "CkG2NduwFgP2"
      },
      "source": [
        "Most of the customers have been customers for 10 months or more.\n",
        "\n",
        "Most customers have had a positive experience to have been customer for such a long time."
      ]
    },
    {
      "cell_type": "code",
      "metadata": {
        "colab": {
          "base_uri": "https://localhost:8080/",
          "height": 295
        },
        "id": "RFG9vagHFL-D",
        "outputId": "2e90ea5a-16f9-404f-ea8d-bdc14b8aeb1c"
      },
      "source": [
        "data['Cancellation_Last_1Month'].value_counts().plot(kind='bar',color='purple')\n",
        "\n",
        "plt.title('Cancellation in Last 1 Month')"
      ],
      "execution_count": 23,
      "outputs": [
        {
          "output_type": "execute_result",
          "data": {
            "text/plain": [
              "Text(0.5, 1.0, 'Cancellation in Last 1 Month')"
            ]
          },
          "metadata": {
            "tags": []
          },
          "execution_count": 23
        },
        {
          "output_type": "display_data",
          "data": {
            "image/png": "[encoded data removed]",
            "text/plain": [
              "<Figure size 432x288 with 1 Axes>"
            ]
          },
          "metadata": {
            "tags": [],
            "needs_background": "light"
          }
        }
      ]
    },
    {
      "cell_type": "markdown",
      "metadata": {
        "id": "YXXOkrOZHQrV"
      },
      "source": [
        "Most customers have made 0 or 1 cancellations mostly in the last month."
      ]
    },
    {
      "cell_type": "markdown",
      "metadata": {
        "id": "rOdhbB8tWsc-"
      },
      "source": [
        "Let us understand the trip distance distribution:"
      ]
    },
    {
      "cell_type": "code",
      "metadata": {
        "colab": {
          "base_uri": "https://localhost:8080/",
          "height": 283
        },
        "id": "foHGTmDHWx54",
        "outputId": "0ad0eece-f190-4f89-92f8-fa18464307cd"
      },
      "source": [
        "data['Trip_Distance'].plot(kind='hist')"
      ],
      "execution_count": 24,
      "outputs": [
        {
          "output_type": "execute_result",
          "data": {
            "text/plain": [
              "<matplotlib.axes._subplots.AxesSubplot at 0x7f614366ce10>"
            ]
          },
          "metadata": {
            "tags": []
          },
          "execution_count": 24
        },
        {
          "output_type": "display_data",
          "data": {
            "image/png": "[encoded data removed]",
            "text/plain": [
              "<Figure size 432x288 with 1 Axes>"
            ]
          },
          "metadata": {
            "tags": [],
            "needs_background": "light"
          }
        }
      ]
    },
    {
      "cell_type": "markdown",
      "metadata": {
        "id": "q7WekBIWl74U"
      },
      "source": [
        "Type of cab with surge price:"
      ]
    },
    {
      "cell_type": "code",
      "metadata": {
        "colab": {
          "base_uri": "https://localhost:8080/",
          "height": 353
        },
        "id": "gQGWm1CSl_B8",
        "outputId": "77137b26-c15c-48fc-9034-b5922b1b2afd"
      },
      "source": [
        "plt.subplot(1,2,2)\n",
        "sns.countplot(data['Type_of_Cab'],hue=data['Surge_Pricing_Type'])"
      ],
      "execution_count": null,
      "outputs": [
        {
          "output_type": "stream",
          "text": [
            "/usr/local/lib/python3.7/dist-packages/seaborn/_decorators.py:43: FutureWarning: Pass the following variable as a keyword arg: x. From version 0.12, the only valid positional argument will be `data`, and passing other arguments without an explicit keyword will result in an error or misinterpretation.\n",
            "  FutureWarning\n"
          ],
          "name": "stderr"
        },
        {
          "output_type": "execute_result",
          "data": {
            "text/plain": [
              "<matplotlib.axes._subplots.AxesSubplot at 0x7f396495d610>"
            ]
          },
          "metadata": {
            "tags": []
          },
          "execution_count": 41
        },
        {
          "output_type": "display_data",
          "data": {
            "image/png": "[encoded data removed]",
            "text/plain": [
              "<Figure size 432x288 with 1 Axes>"
            ]
          },
          "metadata": {
            "tags": [],
            "needs_background": "light"
          }
        }
      ]
    },
    {
      "cell_type": "markdown",
      "metadata": {
        "id": "GRYq_u4UIXbr"
      },
      "source": [
        "Looking for categorical values in the type of cab column."
      ]
    },
    {
      "cell_type": "code",
      "metadata": {
        "colab": {
          "base_uri": "https://localhost:8080/"
        },
        "id": "DQU_GOWkIzjt",
        "outputId": "9cc98d27-0183-4696-a86e-1d0d1a9539d3"
      },
      "source": [
        "data['Type_of_Cab'].value_counts()"
      ],
      "execution_count": 25,
      "outputs": [
        {
          "output_type": "execute_result",
          "data": {
            "text/plain": [
              "B    25259\n",
              "C    22692\n",
              "A    17407\n",
              "D    15300\n",
              "E     9394\n",
              "Name: Type_of_Cab, dtype: int64"
            ]
          },
          "metadata": {
            "tags": []
          },
          "execution_count": 25
        }
      ]
    },
    {
      "cell_type": "code",
      "metadata": {
        "id": "to2JgiI5W7pi"
      },
      "source": [
        "labels = data['Type_of_Cab'].unique()"
      ],
      "execution_count": 26,
      "outputs": []
    },
    {
      "cell_type": "code",
      "metadata": {
        "colab": {
          "base_uri": "https://localhost:8080/"
        },
        "id": "r112zJv7W9eT",
        "outputId": "75fb768d-e7d7-409d-bb65-f472565cce8f"
      },
      "source": [
        "labels"
      ],
      "execution_count": 27,
      "outputs": [
        {
          "output_type": "execute_result",
          "data": {
            "text/plain": [
              "array(['B', 'C', 'E', 'D', 'A'], dtype=object)"
            ]
          },
          "metadata": {
            "tags": []
          },
          "execution_count": 27
        }
      ]
    },
    {
      "cell_type": "code",
      "metadata": {
        "colab": {
          "base_uri": "https://localhost:8080/",
          "height": 671
        },
        "id": "EYVunyR2Jh2K",
        "outputId": "780440e0-a89c-4a28-9c3f-818856082a29"
      },
      "source": [
        "# Data to plot (#Final code for pie chart)\n",
        "labels = data['Type_of_Cab'].unique()\n",
        "sizes = data['Type_of_Cab'].value_counts()\n",
        "colors = ['green', 'red', 'lightblue']\n",
        "\n",
        "# Plot\n",
        "fig = plt.figure(figsize =(10, 7))\n",
        "plt.pie(sizes,labels=labels, colors=colors,autopct='%1.1f%%')\n"
      ],
      "execution_count": 28,
      "outputs": [
        {
          "output_type": "execute_result",
          "data": {
            "text/plain": [
              "([<matplotlib.patches.Wedge at 0x7f61435b5e10>,\n",
              "  <matplotlib.patches.Wedge at 0x7f61435c0610>,\n",
              "  <matplotlib.patches.Wedge at 0x7f61435c0e90>,\n",
              "  <matplotlib.patches.Wedge at 0x7f61435b5c90>,\n",
              "  <matplotlib.patches.Wedge at 0x7f61435d5050>],\n",
              " [Text(0.6998515085598419, 0.8486506147800246, 'B'),\n",
              "  Text(-0.9155270364751454, 0.6097624500434886, 'C'),\n",
              "  Text(-0.7573689921060944, -0.7977419443630871, 'E'),\n",
              "  Text(0.40963406957967485, -1.0208819368759516, 'D'),\n",
              "  Text(1.0414555176892097, -0.3540768344225587, 'A')],\n",
              " [Text(0.38173718648718646, 0.4629003353345588, '28.0%'),\n",
              "  Text(-0.49937838353189745, 0.332597700023721, '25.2%'),\n",
              "  Text(-0.4131103593305969, -0.43513196965259293, '19.3%'),\n",
              "  Text(0.2234367652252772, -0.556844692841428, '17.0%'),\n",
              "  Text(0.5680666460122962, -0.1931328187759411, '10.4%')])"
            ]
          },
          "metadata": {
            "tags": []
          },
          "execution_count": 28
        },
        {
          "output_type": "display_data",
          "data": {
            "image/png": "[encoded data removed]",
            "text/plain": [
              "<Figure size 720x504 with 1 Axes>"
            ]
          },
          "metadata": {
            "tags": []
          }
        }
      ]
    },
    {
      "cell_type": "markdown",
      "metadata": {
        "id": "HInWRz3LNHa-"
      },
      "source": [
        "If we understand this pie chart-\n",
        "\n",
        "1. The most popular types of cabs are B,C and E\n"
      ]
    },
    {
      "cell_type": "markdown",
      "metadata": {
        "id": "44-zdDBf6YBb"
      },
      "source": [
        "#Coverting categorical columns to numerical values"
      ]
    },
    {
      "cell_type": "code",
      "metadata": {
        "colab": {
          "base_uri": "https://localhost:8080/",
          "height": 309
        },
        "id": "ES62E8pC6i1-",
        "outputId": "c7ba5814-3f88-42e3-c155-1bd495a99399"
      },
      "source": [
        "data['Gender'].value_counts().plot(kind='bar',color= 'orange')"
      ],
      "execution_count": 29,
      "outputs": [
        {
          "output_type": "execute_result",
          "data": {
            "text/plain": [
              "<matplotlib.axes._subplots.AxesSubplot at 0x7f6143607cd0>"
            ]
          },
          "metadata": {
            "tags": []
          },
          "execution_count": 29
        },
        {
          "output_type": "display_data",
          "data": {
            "image/png": "[encoded data removed]",
            "text/plain": [
              "<Figure size 432x288 with 1 Axes>"
            ]
          },
          "metadata": {
            "tags": [],
            "needs_background": "light"
          }
        }
      ]
    },
    {
      "cell_type": "code",
      "metadata": {
        "id": "LhUtBCJ06y79"
      },
      "source": [
        "#converting gender to 0 and 1\n",
        "\n",
        "data['Gender']=data['Gender'].map({'Female':0, 'Male':1})"
      ],
      "execution_count": 30,
      "outputs": []
    },
    {
      "cell_type": "code",
      "metadata": {
        "colab": {
          "base_uri": "https://localhost:8080/",
          "height": 279
        },
        "id": "sGtCJ6EL7LeX",
        "outputId": "241bb64c-50a2-43b3-8290-1636e98520fc"
      },
      "source": [
        "data['Gender'].value_counts().plot(kind= 'bar', color= 'red')"
      ],
      "execution_count": 31,
      "outputs": [
        {
          "output_type": "execute_result",
          "data": {
            "text/plain": [
              "<matplotlib.axes._subplots.AxesSubplot at 0x7f6143558750>"
            ]
          },
          "metadata": {
            "tags": []
          },
          "execution_count": 31
        },
        {
          "output_type": "display_data",
          "data": {
            "image/png": "[encoded data removed]",
            "text/plain": [
              "<Figure size 432x288 with 1 Axes>"
            ]
          },
          "metadata": {
            "tags": [],
            "needs_background": "light"
          }
        }
      ]
    },
    {
      "cell_type": "code",
      "metadata": {
        "id": "Qjn2bgH_8IVc"
      },
      "source": [
        "#I don't need Life Style Category anymore so dropping it\n",
        "\n",
        "data.drop(columns= 'Life_Style_Category',inplace= True)"
      ],
      "execution_count": 32,
      "outputs": []
    },
    {
      "cell_type": "code",
      "metadata": {
        "id": "afgZuWz97Yp7"
      },
      "source": [
        "#One hot encoding on all the categorical columns\n",
        "\n",
        "# One hot encoding\n",
        "data= pd.get_dummies(data, columns=[\"Type_of_Cab\", \"Confidence_Life_Style_Index\",\"Destination_Type\"], prefix=[\"cab_type\", \"confidence_index\",\"destination_type\"],drop_first=True)"
      ],
      "execution_count": 33,
      "outputs": []
    },
    {
      "cell_type": "markdown",
      "metadata": {
        "id": "PfQxFBfq7n9_"
      },
      "source": [
        "I am not using label encoding on these categorical columns because I want my model to be robust and be able to deal with data even in the future\n",
        "and I do not want to assume proportions for the future."
      ]
    },
    {
      "cell_type": "code",
      "metadata": {
        "colab": {
          "base_uri": "https://localhost:8080/",
          "height": 222
        },
        "id": "suujv1Iy79jD",
        "outputId": "dcf38092-9a21-4572-b7d1-aa3637d24787"
      },
      "source": [
        "data.head(5)"
      ],
      "execution_count": 34,
      "outputs": [
        {
          "output_type": "execute_result",
          "data": {
            "text/html": [
              "<div>\n",
              "<style scoped>\n",
              "    .dataframe tbody tr th:only-of-type {\n",
              "        vertical-align: middle;\n",
              "    }\n",
              "\n",
              "    .dataframe tbody tr th {\n",
              "        vertical-align: top;\n",
              "    }\n",
              "\n",
              "    .dataframe thead th {\n",
              "        text-align: right;\n",
              "    }\n",
              "</style>\n",
              "<table border=\"1\" class=\"dataframe\">\n",
              "  <thead>\n",
              "    <tr style=\"text-align: right;\">\n",
              "      <th></th>\n",
              "      <th>Trip_Distance</th>\n",
              "      <th>Customer_Since_Months</th>\n",
              "      <th>Life_Style_Index</th>\n",
              "      <th>Customer_Rating</th>\n",
              "      <th>Cancellation_Last_1Month</th>\n",
              "      <th>Var2</th>\n",
              "      <th>Var3</th>\n",
              "      <th>Gender</th>\n",
              "      <th>Surge_Pricing_Type</th>\n",
              "      <th>cab_type_B</th>\n",
              "      <th>cab_type_C</th>\n",
              "      <th>cab_type_D</th>\n",
              "      <th>cab_type_E</th>\n",
              "      <th>confidence_index_B</th>\n",
              "      <th>confidence_index_C</th>\n",
              "      <th>destination_type_B</th>\n",
              "      <th>destination_type_C</th>\n",
              "      <th>destination_type_D</th>\n",
              "      <th>destination_type_E</th>\n",
              "      <th>destination_type_F</th>\n",
              "      <th>destination_type_G</th>\n",
              "      <th>destination_type_H</th>\n",
              "      <th>destination_type_I</th>\n",
              "      <th>destination_type_J</th>\n",
              "      <th>destination_type_K</th>\n",
              "      <th>destination_type_L</th>\n",
              "      <th>destination_type_M</th>\n",
              "      <th>destination_type_N</th>\n",
              "    </tr>\n",
              "  </thead>\n",
              "  <tbody>\n",
              "    <tr>\n",
              "      <th>0</th>\n",
              "      <td>6.77</td>\n",
              "      <td>1.0</td>\n",
              "      <td>2.42769</td>\n",
              "      <td>3.9050</td>\n",
              "      <td>0</td>\n",
              "      <td>46</td>\n",
              "      <td>60</td>\n",
              "      <td>0</td>\n",
              "      <td>2</td>\n",
              "      <td>1</td>\n",
              "      <td>0</td>\n",
              "      <td>0</td>\n",
              "      <td>0</td>\n",
              "      <td>0</td>\n",
              "      <td>0</td>\n",
              "      <td>0</td>\n",
              "      <td>0</td>\n",
              "      <td>0</td>\n",
              "      <td>0</td>\n",
              "      <td>0</td>\n",
              "      <td>0</td>\n",
              "      <td>0</td>\n",
              "      <td>0</td>\n",
              "      <td>0</td>\n",
              "      <td>0</td>\n",
              "      <td>0</td>\n",
              "      <td>0</td>\n",
              "      <td>0</td>\n",
              "    </tr>\n",
              "    <tr>\n",
              "      <th>1</th>\n",
              "      <td>29.47</td>\n",
              "      <td>10.0</td>\n",
              "      <td>2.78245</td>\n",
              "      <td>3.4500</td>\n",
              "      <td>0</td>\n",
              "      <td>56</td>\n",
              "      <td>78</td>\n",
              "      <td>1</td>\n",
              "      <td>2</td>\n",
              "      <td>1</td>\n",
              "      <td>0</td>\n",
              "      <td>0</td>\n",
              "      <td>0</td>\n",
              "      <td>1</td>\n",
              "      <td>0</td>\n",
              "      <td>0</td>\n",
              "      <td>0</td>\n",
              "      <td>0</td>\n",
              "      <td>0</td>\n",
              "      <td>0</td>\n",
              "      <td>0</td>\n",
              "      <td>0</td>\n",
              "      <td>0</td>\n",
              "      <td>0</td>\n",
              "      <td>0</td>\n",
              "      <td>0</td>\n",
              "      <td>0</td>\n",
              "      <td>0</td>\n",
              "    </tr>\n",
              "    <tr>\n",
              "      <th>4</th>\n",
              "      <td>54.95</td>\n",
              "      <td>10.0</td>\n",
              "      <td>3.03453</td>\n",
              "      <td>3.4025</td>\n",
              "      <td>4</td>\n",
              "      <td>49</td>\n",
              "      <td>102</td>\n",
              "      <td>1</td>\n",
              "      <td>2</td>\n",
              "      <td>0</td>\n",
              "      <td>1</td>\n",
              "      <td>0</td>\n",
              "      <td>0</td>\n",
              "      <td>1</td>\n",
              "      <td>0</td>\n",
              "      <td>0</td>\n",
              "      <td>0</td>\n",
              "      <td>0</td>\n",
              "      <td>0</td>\n",
              "      <td>0</td>\n",
              "      <td>0</td>\n",
              "      <td>0</td>\n",
              "      <td>0</td>\n",
              "      <td>0</td>\n",
              "      <td>0</td>\n",
              "      <td>0</td>\n",
              "      <td>0</td>\n",
              "      <td>0</td>\n",
              "    </tr>\n",
              "    <tr>\n",
              "      <th>6</th>\n",
              "      <td>29.72</td>\n",
              "      <td>10.0</td>\n",
              "      <td>2.83958</td>\n",
              "      <td>2.9750</td>\n",
              "      <td>1</td>\n",
              "      <td>50</td>\n",
              "      <td>75</td>\n",
              "      <td>1</td>\n",
              "      <td>2</td>\n",
              "      <td>0</td>\n",
              "      <td>0</td>\n",
              "      <td>0</td>\n",
              "      <td>1</td>\n",
              "      <td>0</td>\n",
              "      <td>1</td>\n",
              "      <td>1</td>\n",
              "      <td>0</td>\n",
              "      <td>0</td>\n",
              "      <td>0</td>\n",
              "      <td>0</td>\n",
              "      <td>0</td>\n",
              "      <td>0</td>\n",
              "      <td>0</td>\n",
              "      <td>0</td>\n",
              "      <td>0</td>\n",
              "      <td>0</td>\n",
              "      <td>0</td>\n",
              "      <td>0</td>\n",
              "    </tr>\n",
              "    <tr>\n",
              "      <th>7</th>\n",
              "      <td>18.44</td>\n",
              "      <td>2.0</td>\n",
              "      <td>2.81871</td>\n",
              "      <td>3.5825</td>\n",
              "      <td>0</td>\n",
              "      <td>46</td>\n",
              "      <td>63</td>\n",
              "      <td>1</td>\n",
              "      <td>2</td>\n",
              "      <td>1</td>\n",
              "      <td>0</td>\n",
              "      <td>0</td>\n",
              "      <td>0</td>\n",
              "      <td>1</td>\n",
              "      <td>0</td>\n",
              "      <td>0</td>\n",
              "      <td>0</td>\n",
              "      <td>0</td>\n",
              "      <td>0</td>\n",
              "      <td>0</td>\n",
              "      <td>0</td>\n",
              "      <td>0</td>\n",
              "      <td>0</td>\n",
              "      <td>0</td>\n",
              "      <td>0</td>\n",
              "      <td>0</td>\n",
              "      <td>0</td>\n",
              "      <td>0</td>\n",
              "    </tr>\n",
              "  </tbody>\n",
              "</table>\n",
              "</div>"
            ],
            "text/plain": [
              "   Trip_Distance  Customer_Since_Months  ...  destination_type_M  destination_type_N\n",
              "0           6.77                    1.0  ...                   0                   0\n",
              "1          29.47                   10.0  ...                   0                   0\n",
              "4          54.95                   10.0  ...                   0                   0\n",
              "6          29.72                   10.0  ...                   0                   0\n",
              "7          18.44                    2.0  ...                   0                   0\n",
              "\n",
              "[5 rows x 28 columns]"
            ]
          },
          "metadata": {
            "tags": []
          },
          "execution_count": 34
        }
      ]
    },
    {
      "cell_type": "code",
      "metadata": {
        "colab": {
          "base_uri": "https://localhost:8080/"
        },
        "id": "fMPPwO_kDQ7f",
        "outputId": "515f4ec6-91dc-4d57-ccd5-66a6d84f8f6a"
      },
      "source": [
        "data.info()"
      ],
      "execution_count": 35,
      "outputs": [
        {
          "output_type": "stream",
          "text": [
            "<class 'pandas.core.frame.DataFrame'>\n",
            "Int64Index: 90052 entries, 0 to 131661\n",
            "Data columns (total 28 columns):\n",
            " #   Column                    Non-Null Count  Dtype  \n",
            "---  ------                    --------------  -----  \n",
            " 0   Trip_Distance             90052 non-null  float64\n",
            " 1   Customer_Since_Months     90052 non-null  float64\n",
            " 2   Life_Style_Index          90052 non-null  float64\n",
            " 3   Customer_Rating           90052 non-null  float64\n",
            " 4   Cancellation_Last_1Month  90052 non-null  int64  \n",
            " 5   Var2                      90052 non-null  int64  \n",
            " 6   Var3                      90052 non-null  int64  \n",
            " 7   Gender                    90052 non-null  int64  \n",
            " 8   Surge_Pricing_Type        90052 non-null  int64  \n",
            " 9   cab_type_B                90052 non-null  uint8  \n",
            " 10  cab_type_C                90052 non-null  uint8  \n",
            " 11  cab_type_D                90052 non-null  uint8  \n",
            " 12  cab_type_E                90052 non-null  uint8  \n",
            " 13  confidence_index_B        90052 non-null  uint8  \n",
            " 14  confidence_index_C        90052 non-null  uint8  \n",
            " 15  destination_type_B        90052 non-null  uint8  \n",
            " 16  destination_type_C        90052 non-null  uint8  \n",
            " 17  destination_type_D        90052 non-null  uint8  \n",
            " 18  destination_type_E        90052 non-null  uint8  \n",
            " 19  destination_type_F        90052 non-null  uint8  \n",
            " 20  destination_type_G        90052 non-null  uint8  \n",
            " 21  destination_type_H        90052 non-null  uint8  \n",
            " 22  destination_type_I        90052 non-null  uint8  \n",
            " 23  destination_type_J        90052 non-null  uint8  \n",
            " 24  destination_type_K        90052 non-null  uint8  \n",
            " 25  destination_type_L        90052 non-null  uint8  \n",
            " 26  destination_type_M        90052 non-null  uint8  \n",
            " 27  destination_type_N        90052 non-null  uint8  \n",
            "dtypes: float64(4), int64(5), uint8(19)\n",
            "memory usage: 8.5 MB\n"
          ],
          "name": "stdout"
        }
      ]
    },
    {
      "cell_type": "markdown",
      "metadata": {
        "id": "13AY35xmNv9R"
      },
      "source": [
        "#Feature Selection:"
      ]
    },
    {
      "cell_type": "code",
      "metadata": {
        "id": "FhGpovDQYqRd"
      },
      "source": [
        "num_variables=['Trip_Distance','Customer_Since_Months','Life_Style_Index','Customer_Rating','Var2','Var3']"
      ],
      "execution_count": 36,
      "outputs": []
    },
    {
      "cell_type": "code",
      "metadata": {
        "id": "0r7CUhTeNVL2"
      },
      "source": [
        "numerical_features=data[num_variables]"
      ],
      "execution_count": 37,
      "outputs": []
    },
    {
      "cell_type": "code",
      "metadata": {
        "id": "mZJe5UNQYy7K"
      },
      "source": [
        "categorical_features=data[[col for col in data.columns if col not in num_variables]]"
      ],
      "execution_count": 38,
      "outputs": []
    },
    {
      "cell_type": "code",
      "metadata": {
        "colab": {
          "base_uri": "https://localhost:8080/"
        },
        "id": "Hhc2L0dOZgh4",
        "outputId": "076e1a1a-d460-4a91-af3b-5dfcb0e064ac"
      },
      "source": [
        "categorical_features.columns"
      ],
      "execution_count": 39,
      "outputs": [
        {
          "output_type": "execute_result",
          "data": {
            "text/plain": [
              "Index(['Cancellation_Last_1Month', 'Gender', 'Surge_Pricing_Type',\n",
              "       'cab_type_B', 'cab_type_C', 'cab_type_D', 'cab_type_E',\n",
              "       'confidence_index_B', 'confidence_index_C', 'destination_type_B',\n",
              "       'destination_type_C', 'destination_type_D', 'destination_type_E',\n",
              "       'destination_type_F', 'destination_type_G', 'destination_type_H',\n",
              "       'destination_type_I', 'destination_type_J', 'destination_type_K',\n",
              "       'destination_type_L', 'destination_type_M', 'destination_type_N'],\n",
              "      dtype='object')"
            ]
          },
          "metadata": {
            "tags": []
          },
          "execution_count": 39
        }
      ]
    },
    {
      "cell_type": "code",
      "metadata": {
        "colab": {
          "base_uri": "https://localhost:8080/"
        },
        "id": "i1nBofv0ZwYU",
        "outputId": "4a3c4fd3-0cfd-4096-d1cb-77315ee86884"
      },
      "source": [
        "categorical_features.drop(columns='Surge_Pricing_Type',inplace= True)"
      ],
      "execution_count": 40,
      "outputs": [
        {
          "output_type": "stream",
          "text": [
            "/usr/local/lib/python3.7/dist-packages/pandas/core/frame.py:4174: SettingWithCopyWarning: \n",
            "A value is trying to be set on a copy of a slice from a DataFrame\n",
            "\n",
            "See the caveats in the documentation: https://pandas.pydata.org/pandas-docs/stable/user_guide/indexing.html#returning-a-view-versus-a-copy\n",
            "  errors=errors,\n"
          ],
          "name": "stderr"
        }
      ]
    },
    {
      "cell_type": "code",
      "metadata": {
        "colab": {
          "base_uri": "https://localhost:8080/"
        },
        "id": "tiWQZNz7Z6XT",
        "outputId": "f94c06ed-23b3-4258-88a9-0e74772fe1b7"
      },
      "source": [
        "categorical_features.columns"
      ],
      "execution_count": 41,
      "outputs": [
        {
          "output_type": "execute_result",
          "data": {
            "text/plain": [
              "Index(['Cancellation_Last_1Month', 'Gender', 'cab_type_B', 'cab_type_C',\n",
              "       'cab_type_D', 'cab_type_E', 'confidence_index_B', 'confidence_index_C',\n",
              "       'destination_type_B', 'destination_type_C', 'destination_type_D',\n",
              "       'destination_type_E', 'destination_type_F', 'destination_type_G',\n",
              "       'destination_type_H', 'destination_type_I', 'destination_type_J',\n",
              "       'destination_type_K', 'destination_type_L', 'destination_type_M',\n",
              "       'destination_type_N'],\n",
              "      dtype='object')"
            ]
          },
          "metadata": {
            "tags": []
          },
          "execution_count": 41
        }
      ]
    },
    {
      "cell_type": "markdown",
      "metadata": {
        "id": "pWme3mH1OWzK"
      },
      "source": [
        "##Feature selection for categorical input that has categorical output: Chi-Squared"
      ]
    },
    {
      "cell_type": "markdown",
      "metadata": {
        "id": "LmhqMMaKa2Ee"
      },
      "source": [
        "H0- Categorical features are independent from the surge pricing category\n",
        "\n",
        "H1- Categorical features are dependent on the surge pricing category\n",
        "\n",
        "The significance level remains 5% for this."
      ]
    },
    {
      "cell_type": "code",
      "metadata": {
        "id": "jcmc230MV9Gq"
      },
      "source": [
        "from sklearn.feature_selection import chi2"
      ],
      "execution_count": 42,
      "outputs": []
    },
    {
      "cell_type": "code",
      "metadata": {
        "id": "qFd2qA-FaU49"
      },
      "source": [
        "#Defining the dependent variable"
      ],
      "execution_count": 43,
      "outputs": []
    },
    {
      "cell_type": "code",
      "metadata": {
        "id": "MUaZMhPtZsht"
      },
      "source": [
        "dependent_variable= data['Surge_Pricing_Type']"
      ],
      "execution_count": 44,
      "outputs": []
    },
    {
      "cell_type": "code",
      "metadata": {
        "id": "E2VO4plraFib"
      },
      "source": [
        "#Checking the Chi-scores array\n",
        "\n",
        "chi_scores = chi2(categorical_features,dependent_variable)"
      ],
      "execution_count": 45,
      "outputs": []
    },
    {
      "cell_type": "code",
      "metadata": {
        "colab": {
          "base_uri": "https://localhost:8080/"
        },
        "id": "do4Au6c8aRAE",
        "outputId": "57a38346-2166-48ce-c675-c8d0d40c827c"
      },
      "source": [
        "chi_scores"
      ],
      "execution_count": 46,
      "outputs": [
        {
          "output_type": "execute_result",
          "data": {
            "text/plain": [
              "(array([4.36905234e+03, 4.13094377e-02, 1.24757739e+04, 4.87004575e+03,\n",
              "        1.32863060e+04, 5.24532842e+03, 2.02580837e+03, 3.76378137e+01,\n",
              "        1.34049001e+03, 3.15790920e+01, 5.07458511e+02, 1.20325710e+02,\n",
              "        1.97456132e+02, 1.56033130e+02, 5.68496944e+01, 9.86709681e+01,\n",
              "        4.45941173e+01, 1.11212377e+01, 3.30281828e+01, 6.19917879e+00,\n",
              "        2.75409033e+01]),\n",
              " array([0.00000000e+000, 9.79557129e-001, 0.00000000e+000, 0.00000000e+000,\n",
              "        0.00000000e+000, 0.00000000e+000, 0.00000000e+000, 6.71510176e-009,\n",
              "        8.24694780e-292, 1.38895221e-007, 6.40891394e-111, 7.44053211e-027,\n",
              "        1.32722836e-043, 1.31170540e-034, 4.52111667e-013, 3.74862083e-022,\n",
              "        2.07257597e-010, 3.84639540e-003, 6.73009568e-008, 4.50677037e-002,\n",
              "        1.04608948e-006]))"
            ]
          },
          "metadata": {
            "tags": []
          },
          "execution_count": 46
        }
      ]
    },
    {
      "cell_type": "markdown",
      "metadata": {
        "id": "ONhGubyaah8i"
      },
      "source": [
        "The first array in this array contains chi-square values and the second contains p-values\n",
        "\n",
        "For our feature selection we should take p-values."
      ]
    },
    {
      "cell_type": "code",
      "metadata": {
        "id": "BHKS-gIucJYY"
      },
      "source": [
        "p_values = pd.Series(chi_scores[1],index = categorical_features.columns)\n",
        "p_values.sort_values(ascending = False , inplace = True)"
      ],
      "execution_count": 47,
      "outputs": []
    },
    {
      "cell_type": "code",
      "metadata": {
        "colab": {
          "base_uri": "https://localhost:8080/",
          "height": 419
        },
        "id": "v7IQd_xTadCd",
        "outputId": "8cb7f5dd-b378-4e17-f156-988cc7f53d4c"
      },
      "source": [
        "p_values.plot(kind='bar',color='red')\n",
        "\n",
        "plt.title('P-values for categorical features')"
      ],
      "execution_count": 48,
      "outputs": [
        {
          "output_type": "execute_result",
          "data": {
            "text/plain": [
              "Text(0.5, 1.0, 'P-values for categorical features')"
            ]
          },
          "metadata": {
            "tags": []
          },
          "execution_count": 48
        },
        {
          "output_type": "display_data",
          "data": {
            "image/png": "[encoded data removed]",
            "text/plain": [
              "<Figure size 432x288 with 1 Axes>"
            ]
          },
          "metadata": {
            "tags": [],
            "needs_background": "light"
          }
        }
      ]
    },
    {
      "cell_type": "markdown",
      "metadata": {
        "id": "tsjGtaodbQ6W"
      },
      "source": [
        "p-value of gender is very high which means that this variable is independent of the surge pricing and therefore should not be used for model training."
      ]
    },
    {
      "cell_type": "markdown",
      "metadata": {
        "id": "EcEdE38hc-Kf"
      },
      "source": [
        "##Feature selection for numerical input that has categorical output: ANOVA"
      ]
    },
    {
      "cell_type": "code",
      "metadata": {
        "id": "r2p4Oq5HdFgC"
      },
      "source": [
        "from sklearn.feature_selection import f_classif, f_regression"
      ],
      "execution_count": 49,
      "outputs": []
    },
    {
      "cell_type": "code",
      "metadata": {
        "id": "XCuVlmWkfdqA"
      },
      "source": [
        "#Calculating the f scores of these"
      ],
      "execution_count": 50,
      "outputs": []
    },
    {
      "cell_type": "code",
      "metadata": {
        "colab": {
          "base_uri": "https://localhost:8080/"
        },
        "id": "-7NQXouQfJv6",
        "outputId": "e35d9a5d-cf77-4ff7-8282-b61ae08d6938"
      },
      "source": [
        "f_scores = f_classif(numerical_features, dependent_variable)\n",
        "f_scores"
      ],
      "execution_count": 52,
      "outputs": [
        {
          "output_type": "execute_result",
          "data": {
            "text/plain": [
              "(array([1217.74688847,   48.41793297,  486.43036071, 1060.66928714,\n",
              "          26.94158871,  130.88211635]),\n",
              " array([0.00000000e+000, 9.63068149e-022, 7.56808447e-211, 0.00000000e+000,\n",
              "        2.00870411e-012, 1.74211047e-057]))"
            ]
          },
          "metadata": {
            "tags": []
          },
          "execution_count": 52
        }
      ]
    },
    {
      "cell_type": "code",
      "metadata": {
        "id": "O39qlFdVfg4N"
      },
      "source": [
        "#The second array consists of p-values that we need\n",
        "\n",
        "p_values_n= pd.Series(f_scores[1],index= numerical_features.columns)"
      ],
      "execution_count": 53,
      "outputs": []
    },
    {
      "cell_type": "code",
      "metadata": {
        "colab": {
          "base_uri": "https://localhost:8080/",
          "height": 411
        },
        "id": "Im4Ob0O-iemf",
        "outputId": "96902835-20be-471c-f32e-6a8807cd7926"
      },
      "source": [
        "p_values_n.plot(kind='bar',color='red')\n",
        "\n",
        "plt.title('P-values for numerical features')"
      ],
      "execution_count": 54,
      "outputs": [
        {
          "output_type": "execute_result",
          "data": {
            "text/plain": [
              "Text(0.5, 1.0, 'P-values for numerical features')"
            ]
          },
          "metadata": {
            "tags": []
          },
          "execution_count": 54
        },
        {
          "output_type": "display_data",
          "data": {
            "image/png": "[encoded data removed]",
            "text/plain": [
              "<Figure size 432x288 with 1 Axes>"
            ]
          },
          "metadata": {
            "tags": [],
            "needs_background": "light"
          }
        }
      ]
    },
    {
      "cell_type": "markdown",
      "metadata": {
        "id": "KwiMW14biw0r"
      },
      "source": [
        "We can drop Variable 2 because of high p-value too."
      ]
    },
    {
      "cell_type": "markdown",
      "metadata": {
        "id": "ruWlvWDHAZpF"
      },
      "source": [
        "#Implementing RandomForrestClassifier:"
      ]
    },
    {
      "cell_type": "markdown",
      "metadata": {
        "id": "4alwekcuA6_x"
      },
      "source": [
        "Implementing train-test split:"
      ]
    },
    {
      "cell_type": "code",
      "metadata": {
        "id": "1wuJkYyhKm0E"
      },
      "source": [
        "X=data[[col for col in data.columns if col not in ['Surge_Pricing_Type','Gender','Var2']]]\n",
        "Y=data['Surge_Pricing_Type']"
      ],
      "execution_count": 55,
      "outputs": []
    },
    {
      "cell_type": "code",
      "metadata": {
        "id": "qQig1pYq_wNd"
      },
      "source": [
        "import numpy as np\n",
        "import pandas as pd\n",
        "from sklearn.model_selection import train_test_split"
      ],
      "execution_count": 56,
      "outputs": []
    },
    {
      "cell_type": "code",
      "metadata": {
        "id": "lGXsOxcRAYO1"
      },
      "source": [
        "# creating the training and validation set\n",
        "X_train, X_test, y_train, y_test = train_test_split(X, Y, test_size=.25, random_state=42)"
      ],
      "execution_count": 60,
      "outputs": []
    },
    {
      "cell_type": "markdown",
      "metadata": {
        "id": "4Ep_WOZVbPM-"
      },
      "source": [
        "Standardizing is not needed while using Random Classifier for tree based classifier: But I don't want to take a risk so I will still scale it."
      ]
    },
    {
      "cell_type": "code",
      "metadata": {
        "id": "micssUTYFFAf"
      },
      "source": [
        "from sklearn.preprocessing import StandardScaler"
      ],
      "execution_count": 61,
      "outputs": []
    },
    {
      "cell_type": "code",
      "metadata": {
        "id": "8hPbhMUCFDNS"
      },
      "source": [
        "# Feature Scaling\n",
        "scaler = StandardScaler()\n",
        "X_train = scaler.fit_transform(X_train)\n",
        "X_test = scaler.transform(X_test)"
      ],
      "execution_count": 62,
      "outputs": []
    },
    {
      "cell_type": "code",
      "metadata": {
        "id": "J-SmMlg-CQNS"
      },
      "source": [
        "from sklearn.ensemble import RandomForestClassifier"
      ],
      "execution_count": 63,
      "outputs": []
    },
    {
      "cell_type": "code",
      "metadata": {
        "id": "zgR7eK0JJvKs",
        "colab": {
          "base_uri": "https://localhost:8080/"
        },
        "outputId": "d5fb96ee-501d-4015-cb3c-3e2ff2c99d69"
      },
      "source": [
        "# Fitting Random Forest Classification to the Training set\n",
        "classifier = RandomForestClassifier(n_estimators = 10, criterion = 'entropy', random_state = 42)\n",
        "classifier.fit(X_train, y_train)"
      ],
      "execution_count": 64,
      "outputs": [
        {
          "output_type": "execute_result",
          "data": {
            "text/plain": [
              "RandomForestClassifier(bootstrap=True, ccp_alpha=0.0, class_weight=None,\n",
              "                       criterion='entropy', max_depth=None, max_features='auto',\n",
              "                       max_leaf_nodes=None, max_samples=None,\n",
              "                       min_impurity_decrease=0.0, min_impurity_split=None,\n",
              "                       min_samples_leaf=1, min_samples_split=2,\n",
              "                       min_weight_fraction_leaf=0.0, n_estimators=10,\n",
              "                       n_jobs=None, oob_score=False, random_state=42, verbose=0,\n",
              "                       warm_start=False)"
            ]
          },
          "metadata": {
            "tags": []
          },
          "execution_count": 64
        }
      ]
    },
    {
      "cell_type": "markdown",
      "metadata": {
        "id": "dKIIWzDCfOMN"
      },
      "source": [
        "#Metric scores:"
      ]
    },
    {
      "cell_type": "code",
      "metadata": {
        "id": "dRS091YtSPcZ"
      },
      "source": [
        "from sklearn.metrics import accuracy_score,recall_score,precision_score,plot_confusion_matrix,roc_auc_score"
      ],
      "execution_count": 65,
      "outputs": []
    },
    {
      "cell_type": "code",
      "metadata": {
        "id": "lD_6HziSJ8vd"
      },
      "source": [
        "# make predictions for test data\n",
        "y_pred = classifier.predict(X_test)"
      ],
      "execution_count": 66,
      "outputs": []
    },
    {
      "cell_type": "code",
      "metadata": {
        "id": "9-6Y_PF7KIZM",
        "colab": {
          "base_uri": "https://localhost:8080/"
        },
        "outputId": "1b6f618c-1200-4dcb-81fa-a3e3f5e8c6e5"
      },
      "source": [
        "# Training accuracy\n",
        "accuracy_score(y_train, classifier.predict(X_train))*100"
      ],
      "execution_count": 67,
      "outputs": [
        {
          "output_type": "execute_result",
          "data": {
            "text/plain": [
              "98.31060572410016"
            ]
          },
          "metadata": {
            "tags": []
          },
          "execution_count": 67
        }
      ]
    },
    {
      "cell_type": "code",
      "metadata": {
        "id": "_Y4WdH6DKZOj",
        "colab": {
          "base_uri": "https://localhost:8080/"
        },
        "outputId": "eff76ce4-3d67-4a78-ee6b-8f168b8ca2f7"
      },
      "source": [
        "# evaluate predictions\n",
        "accuracy = accuracy_score(y_test, y_pred)\n",
        "print(\"Accuracy: %.2f%%\" % (accuracy * 100.0))"
      ],
      "execution_count": 68,
      "outputs": [
        {
          "output_type": "stream",
          "text": [
            "Accuracy: 70.53%\n"
          ],
          "name": "stdout"
        }
      ]
    },
    {
      "cell_type": "markdown",
      "metadata": {
        "id": "5HdUBPeBLDlH"
      },
      "source": [
        "Average:This parameter is required for multiclass/multilabel targets. If None, the scores for each class are returned. Otherwise, this determines the type of averaging performed on the data:\n",
        "\n",
        "'micro':\n",
        "Calculate metrics globally by counting the total true positives, false negatives and false positives.\n",
        "\n",
        "'macro':\n",
        "Calculate metrics for each label, and find their unweighted mean. This does not take label imbalance into account.\n",
        "\n",
        "'weighted':\n",
        "Calculate metrics for each label, and find their average weighted by support (the number of true instances for each label). This alters ‘macro’ to account for label imbalance; it can result in an F-score that is not between precision and recall.\n",
        "\n",
        "We cannot use binary for multiclass label problem.\n"
      ]
    },
    {
      "cell_type": "code",
      "metadata": {
        "id": "XZ1iKHUYKcjk",
        "colab": {
          "base_uri": "https://localhost:8080/"
        },
        "outputId": "5692b178-6eb2-4724-9eaa-0908b5a42fcf"
      },
      "source": [
        "print(\"Precision:\", precision_score(y_test,y_pred,average='macro')*100)"
      ],
      "execution_count": 70,
      "outputs": [
        {
          "output_type": "stream",
          "text": [
            "Precision: 70.8734388313724\n"
          ],
          "name": "stdout"
        }
      ]
    },
    {
      "cell_type": "code",
      "metadata": {
        "id": "h-OeGwuwKp3a",
        "colab": {
          "base_uri": "https://localhost:8080/"
        },
        "outputId": "354f1e76-678d-41c0-98e3-f7eeced285c9"
      },
      "source": [
        "print(\"Recall:\",recall_score(y_test,y_pred,average='macro')*100)"
      ],
      "execution_count": 71,
      "outputs": [
        {
          "output_type": "stream",
          "text": [
            "Recall: 68.55550216636578\n"
          ],
          "name": "stdout"
        }
      ]
    },
    {
      "cell_type": "markdown",
      "metadata": {
        "id": "HcOUYsU5SDaM"
      },
      "source": [
        "Plotting the confusion matrix:"
      ]
    },
    {
      "cell_type": "code",
      "metadata": {
        "id": "8V9L41gOSF5a",
        "colab": {
          "base_uri": "https://localhost:8080/",
          "height": 297
        },
        "outputId": "52704337-4368-4632-d753-dad41e47fac6"
      },
      "source": [
        "#For train\n",
        "plot_confusion_matrix(classifier,X_train,y_train)"
      ],
      "execution_count": 69,
      "outputs": [
        {
          "output_type": "execute_result",
          "data": {
            "text/plain": [
              "<sklearn.metrics._plot.confusion_matrix.ConfusionMatrixDisplay at 0x7f6138844150>"
            ]
          },
          "metadata": {
            "tags": []
          },
          "execution_count": 69
        },
        {
          "output_type": "display_data",
          "data": {
            "image/png": "[encoded data removed]",
            "text/plain": [
              "<Figure size 432x288 with 2 Axes>"
            ]
          },
          "metadata": {
            "tags": [],
            "needs_background": "light"
          }
        }
      ]
    },
    {
      "cell_type": "code",
      "metadata": {
        "id": "om0bTCRPTL0G",
        "colab": {
          "base_uri": "https://localhost:8080/",
          "height": 297
        },
        "outputId": "1de8b802-ff77-42b9-f5c1-d05143f4196c"
      },
      "source": [
        "#For test\n",
        "plot_confusion_matrix(classifier,X_test,y_test)"
      ],
      "execution_count": null,
      "outputs": [
        {
          "output_type": "execute_result",
          "data": {
            "text/plain": [
              "<sklearn.metrics._plot.confusion_matrix.ConfusionMatrixDisplay at 0x7f3963c6df10>"
            ]
          },
          "metadata": {
            "tags": []
          },
          "execution_count": 94
        },
        {
          "output_type": "display_data",
          "data": {
            "image/png": "[encoded data removed]",
            "text/plain": [
              "<Figure size 432x288 with 2 Axes>"
            ]
          },
          "metadata": {
            "tags": [],
            "needs_background": "light"
          }
        }
      ]
    },
    {
      "cell_type": "markdown",
      "metadata": {
        "id": "ckj8l5u5CsOH"
      },
      "source": [
        "#Using hyperparamter tuning by Randomized Search Cv:"
      ]
    },
    {
      "cell_type": "code",
      "metadata": {
        "id": "7srL_oN7BFFA"
      },
      "source": [
        "# Number of trees\n",
        "n_estimators = [50,80,100]\n",
        "\n",
        "# Maximum depth of trees\n",
        "max_depth = [4,6,8]\n",
        "\n",
        "# Minimum number of samples required to split a node\n",
        "min_samples_split = [50,100,150]\n",
        "\n",
        "# Minimum number of samples required at each leaf node\n",
        "min_samples_leaf = [40,50]\n",
        "\n",
        "#Average parameters\n",
        "#avg= [None,'micro','macro','samples','weighted']\n",
        "\n",
        "# HYperparameter Dict\n",
        "param_dict = {'n_estimators' : n_estimators,\n",
        "              'max_depth' : max_depth,\n",
        "              'min_samples_split' : min_samples_split,\n",
        "              'min_samples_leaf' : min_samples_leaf}\n",
        "              "
      ],
      "execution_count": 72,
      "outputs": []
    },
    {
      "cell_type": "code",
      "metadata": {
        "id": "WtgB2bACCn7z"
      },
      "source": [
        "from sklearn.model_selection import RandomizedSearchCV"
      ],
      "execution_count": 73,
      "outputs": []
    },
    {
      "cell_type": "code",
      "metadata": {
        "id": "eS4PyuzQCTe5"
      },
      "source": [
        "# Create an instance of the RandomForestClassifier\n",
        "rf_model = RandomForestClassifier()"
      ],
      "execution_count": 74,
      "outputs": []
    },
    {
      "cell_type": "code",
      "metadata": {
        "id": "JqXeYC4WChpZ"
      },
      "source": [
        "#Random search\n",
        "rf_random = RandomizedSearchCV(rf_model,param_dict,verbose=2,cv=5)"
      ],
      "execution_count": 75,
      "outputs": []
    },
    {
      "cell_type": "code",
      "metadata": {
        "id": "d2anv_4QIBtu",
        "colab": {
          "base_uri": "https://localhost:8080/"
        },
        "outputId": "4a563b92-4613-440a-f618-b95e9dcd0a89"
      },
      "source": [
        "rf_random.fit(X_train,y_train)\n"
      ],
      "execution_count": 76,
      "outputs": [
        {
          "output_type": "stream",
          "text": [
            "Fitting 5 folds for each of 10 candidates, totalling 50 fits\n",
            "[CV] n_estimators=80, min_samples_split=100, min_samples_leaf=50, max_depth=4 \n"
          ],
          "name": "stdout"
        },
        {
          "output_type": "stream",
          "text": [
            "[Parallel(n_jobs=1)]: Using backend SequentialBackend with 1 concurrent workers.\n"
          ],
          "name": "stderr"
        },
        {
          "output_type": "stream",
          "text": [
            "[CV]  n_estimators=80, min_samples_split=100, min_samples_leaf=50, max_depth=4, total=   2.6s\n",
            "[CV] n_estimators=80, min_samples_split=100, min_samples_leaf=50, max_depth=4 \n"
          ],
          "name": "stdout"
        },
        {
          "output_type": "stream",
          "text": [
            "[Parallel(n_jobs=1)]: Done   1 out of   1 | elapsed:    2.6s remaining:    0.0s\n"
          ],
          "name": "stderr"
        },
        {
          "output_type": "stream",
          "text": [
            "[CV]  n_estimators=80, min_samples_split=100, min_samples_leaf=50, max_depth=4, total=   2.5s\n",
            "[CV] n_estimators=80, min_samples_split=100, min_samples_leaf=50, max_depth=4 \n",
            "[CV]  n_estimators=80, min_samples_split=100, min_samples_leaf=50, max_depth=4, total=   2.5s\n",
            "[CV] n_estimators=80, min_samples_split=100, min_samples_leaf=50, max_depth=4 \n",
            "[CV]  n_estimators=80, min_samples_split=100, min_samples_leaf=50, max_depth=4, total=   2.6s\n",
            "[CV] n_estimators=80, min_samples_split=100, min_samples_leaf=50, max_depth=4 \n",
            "[CV]  n_estimators=80, min_samples_split=100, min_samples_leaf=50, max_depth=4, total=   2.5s\n",
            "[CV] n_estimators=80, min_samples_split=100, min_samples_leaf=40, max_depth=8 \n",
            "[CV]  n_estimators=80, min_samples_split=100, min_samples_leaf=40, max_depth=8, total=   3.8s\n",
            "[CV] n_estimators=80, min_samples_split=100, min_samples_leaf=40, max_depth=8 \n",
            "[CV]  n_estimators=80, min_samples_split=100, min_samples_leaf=40, max_depth=8, total=   3.9s\n",
            "[CV] n_estimators=80, min_samples_split=100, min_samples_leaf=40, max_depth=8 \n",
            "[CV]  n_estimators=80, min_samples_split=100, min_samples_leaf=40, max_depth=8, total=   3.8s\n",
            "[CV] n_estimators=80, min_samples_split=100, min_samples_leaf=40, max_depth=8 \n",
            "[CV]  n_estimators=80, min_samples_split=100, min_samples_leaf=40, max_depth=8, total=   3.8s\n",
            "[CV] n_estimators=80, min_samples_split=100, min_samples_leaf=40, max_depth=8 \n",
            "[CV]  n_estimators=80, min_samples_split=100, min_samples_leaf=40, max_depth=8, total=   3.9s\n",
            "[CV] n_estimators=50, min_samples_split=100, min_samples_leaf=50, max_depth=8 \n",
            "[CV]  n_estimators=50, min_samples_split=100, min_samples_leaf=50, max_depth=8, total=   2.4s\n",
            "[CV] n_estimators=50, min_samples_split=100, min_samples_leaf=50, max_depth=8 \n",
            "[CV]  n_estimators=50, min_samples_split=100, min_samples_leaf=50, max_depth=8, total=   2.4s\n",
            "[CV] n_estimators=50, min_samples_split=100, min_samples_leaf=50, max_depth=8 \n",
            "[CV]  n_estimators=50, min_samples_split=100, min_samples_leaf=50, max_depth=8, total=   2.4s\n",
            "[CV] n_estimators=50, min_samples_split=100, min_samples_leaf=50, max_depth=8 \n",
            "[CV]  n_estimators=50, min_samples_split=100, min_samples_leaf=50, max_depth=8, total=   2.6s\n",
            "[CV] n_estimators=50, min_samples_split=100, min_samples_leaf=50, max_depth=8 \n",
            "[CV]  n_estimators=50, min_samples_split=100, min_samples_leaf=50, max_depth=8, total=   2.4s\n",
            "[CV] n_estimators=50, min_samples_split=50, min_samples_leaf=50, max_depth=4 \n",
            "[CV]  n_estimators=50, min_samples_split=50, min_samples_leaf=50, max_depth=4, total=   1.6s\n",
            "[CV] n_estimators=50, min_samples_split=50, min_samples_leaf=50, max_depth=4 \n",
            "[CV]  n_estimators=50, min_samples_split=50, min_samples_leaf=50, max_depth=4, total=   1.6s\n",
            "[CV] n_estimators=50, min_samples_split=50, min_samples_leaf=50, max_depth=4 \n",
            "[CV]  n_estimators=50, min_samples_split=50, min_samples_leaf=50, max_depth=4, total=   1.6s\n",
            "[CV] n_estimators=50, min_samples_split=50, min_samples_leaf=50, max_depth=4 \n",
            "[CV]  n_estimators=50, min_samples_split=50, min_samples_leaf=50, max_depth=4, total=   1.6s\n",
            "[CV] n_estimators=50, min_samples_split=50, min_samples_leaf=50, max_depth=4 \n",
            "[CV]  n_estimators=50, min_samples_split=50, min_samples_leaf=50, max_depth=4, total=   1.6s\n",
            "[CV] n_estimators=80, min_samples_split=50, min_samples_leaf=50, max_depth=6 \n",
            "[CV]  n_estimators=80, min_samples_split=50, min_samples_leaf=50, max_depth=6, total=   3.2s\n",
            "[CV] n_estimators=80, min_samples_split=50, min_samples_leaf=50, max_depth=6 \n",
            "[CV]  n_estimators=80, min_samples_split=50, min_samples_leaf=50, max_depth=6, total=   3.3s\n",
            "[CV] n_estimators=80, min_samples_split=50, min_samples_leaf=50, max_depth=6 \n",
            "[CV]  n_estimators=80, min_samples_split=50, min_samples_leaf=50, max_depth=6, total=   3.3s\n",
            "[CV] n_estimators=80, min_samples_split=50, min_samples_leaf=50, max_depth=6 \n",
            "[CV]  n_estimators=80, min_samples_split=50, min_samples_leaf=50, max_depth=6, total=   3.3s\n",
            "[CV] n_estimators=80, min_samples_split=50, min_samples_leaf=50, max_depth=6 \n",
            "[CV]  n_estimators=80, min_samples_split=50, min_samples_leaf=50, max_depth=6, total=   3.2s\n",
            "[CV] n_estimators=50, min_samples_split=100, min_samples_leaf=40, max_depth=8 \n",
            "[CV]  n_estimators=50, min_samples_split=100, min_samples_leaf=40, max_depth=8, total=   2.5s\n",
            "[CV] n_estimators=50, min_samples_split=100, min_samples_leaf=40, max_depth=8 \n",
            "[CV]  n_estimators=50, min_samples_split=100, min_samples_leaf=40, max_depth=8, total=   2.4s\n",
            "[CV] n_estimators=50, min_samples_split=100, min_samples_leaf=40, max_depth=8 \n",
            "[CV]  n_estimators=50, min_samples_split=100, min_samples_leaf=40, max_depth=8, total=   2.5s\n",
            "[CV] n_estimators=50, min_samples_split=100, min_samples_leaf=40, max_depth=8 \n",
            "[CV]  n_estimators=50, min_samples_split=100, min_samples_leaf=40, max_depth=8, total=   2.4s\n",
            "[CV] n_estimators=50, min_samples_split=100, min_samples_leaf=40, max_depth=8 \n",
            "[CV]  n_estimators=50, min_samples_split=100, min_samples_leaf=40, max_depth=8, total=   2.5s\n",
            "[CV] n_estimators=100, min_samples_split=50, min_samples_leaf=50, max_depth=4 \n",
            "[CV]  n_estimators=100, min_samples_split=50, min_samples_leaf=50, max_depth=4, total=   3.1s\n",
            "[CV] n_estimators=100, min_samples_split=50, min_samples_leaf=50, max_depth=4 \n",
            "[CV]  n_estimators=100, min_samples_split=50, min_samples_leaf=50, max_depth=4, total=   3.2s\n",
            "[CV] n_estimators=100, min_samples_split=50, min_samples_leaf=50, max_depth=4 \n",
            "[CV]  n_estimators=100, min_samples_split=50, min_samples_leaf=50, max_depth=4, total=   3.2s\n",
            "[CV] n_estimators=100, min_samples_split=50, min_samples_leaf=50, max_depth=4 \n",
            "[CV]  n_estimators=100, min_samples_split=50, min_samples_leaf=50, max_depth=4, total=   3.2s\n",
            "[CV] n_estimators=100, min_samples_split=50, min_samples_leaf=50, max_depth=4 \n",
            "[CV]  n_estimators=100, min_samples_split=50, min_samples_leaf=50, max_depth=4, total=   3.2s\n",
            "[CV] n_estimators=80, min_samples_split=150, min_samples_leaf=50, max_depth=6 \n",
            "[CV]  n_estimators=80, min_samples_split=150, min_samples_leaf=50, max_depth=6, total=   3.3s\n",
            "[CV] n_estimators=80, min_samples_split=150, min_samples_leaf=50, max_depth=6 \n",
            "[CV]  n_estimators=80, min_samples_split=150, min_samples_leaf=50, max_depth=6, total=   3.3s\n",
            "[CV] n_estimators=80, min_samples_split=150, min_samples_leaf=50, max_depth=6 \n",
            "[CV]  n_estimators=80, min_samples_split=150, min_samples_leaf=50, max_depth=6, total=   3.3s\n",
            "[CV] n_estimators=80, min_samples_split=150, min_samples_leaf=50, max_depth=6 \n",
            "[CV]  n_estimators=80, min_samples_split=150, min_samples_leaf=50, max_depth=6, total=   3.3s\n",
            "[CV] n_estimators=80, min_samples_split=150, min_samples_leaf=50, max_depth=6 \n",
            "[CV]  n_estimators=80, min_samples_split=150, min_samples_leaf=50, max_depth=6, total=   3.2s\n",
            "[CV] n_estimators=100, min_samples_split=100, min_samples_leaf=50, max_depth=8 \n",
            "[CV]  n_estimators=100, min_samples_split=100, min_samples_leaf=50, max_depth=8, total=   4.8s\n",
            "[CV] n_estimators=100, min_samples_split=100, min_samples_leaf=50, max_depth=8 \n",
            "[CV]  n_estimators=100, min_samples_split=100, min_samples_leaf=50, max_depth=8, total=   4.8s\n",
            "[CV] n_estimators=100, min_samples_split=100, min_samples_leaf=50, max_depth=8 \n",
            "[CV]  n_estimators=100, min_samples_split=100, min_samples_leaf=50, max_depth=8, total=   4.8s\n",
            "[CV] n_estimators=100, min_samples_split=100, min_samples_leaf=50, max_depth=8 \n",
            "[CV]  n_estimators=100, min_samples_split=100, min_samples_leaf=50, max_depth=8, total=   4.9s\n",
            "[CV] n_estimators=100, min_samples_split=100, min_samples_leaf=50, max_depth=8 \n",
            "[CV]  n_estimators=100, min_samples_split=100, min_samples_leaf=50, max_depth=8, total=   4.9s\n",
            "[CV] n_estimators=100, min_samples_split=50, min_samples_leaf=50, max_depth=8 \n",
            "[CV]  n_estimators=100, min_samples_split=50, min_samples_leaf=50, max_depth=8, total=   4.7s\n",
            "[CV] n_estimators=100, min_samples_split=50, min_samples_leaf=50, max_depth=8 \n",
            "[CV]  n_estimators=100, min_samples_split=50, min_samples_leaf=50, max_depth=8, total=   4.8s\n",
            "[CV] n_estimators=100, min_samples_split=50, min_samples_leaf=50, max_depth=8 \n",
            "[CV]  n_estimators=100, min_samples_split=50, min_samples_leaf=50, max_depth=8, total=   4.7s\n",
            "[CV] n_estimators=100, min_samples_split=50, min_samples_leaf=50, max_depth=8 \n",
            "[CV]  n_estimators=100, min_samples_split=50, min_samples_leaf=50, max_depth=8, total=   4.8s\n",
            "[CV] n_estimators=100, min_samples_split=50, min_samples_leaf=50, max_depth=8 \n",
            "[CV]  n_estimators=100, min_samples_split=50, min_samples_leaf=50, max_depth=8, total=   4.7s\n"
          ],
          "name": "stdout"
        },
        {
          "output_type": "stream",
          "text": [
            "[Parallel(n_jobs=1)]: Done  50 out of  50 | elapsed:  2.7min finished\n"
          ],
          "name": "stderr"
        },
        {
          "output_type": "execute_result",
          "data": {
            "text/plain": [
              "RandomizedSearchCV(cv=5, error_score=nan,\n",
              "                   estimator=RandomForestClassifier(bootstrap=True,\n",
              "                                                    ccp_alpha=0.0,\n",
              "                                                    class_weight=None,\n",
              "                                                    criterion='gini',\n",
              "                                                    max_depth=None,\n",
              "                                                    max_features='auto',\n",
              "                                                    max_leaf_nodes=None,\n",
              "                                                    max_samples=None,\n",
              "                                                    min_impurity_decrease=0.0,\n",
              "                                                    min_impurity_split=None,\n",
              "                                                    min_samples_leaf=1,\n",
              "                                                    min_samples_split=2,\n",
              "                                                    min_weight_fraction_leaf=0.0,\n",
              "                                                    n_estimators=100,\n",
              "                                                    n_jobs=None,\n",
              "                                                    oob_score=False,\n",
              "                                                    random_state=None,\n",
              "                                                    verbose=0,\n",
              "                                                    warm_start=False),\n",
              "                   iid='deprecated', n_iter=10, n_jobs=None,\n",
              "                   param_distributions={'max_depth': [4, 6, 8],\n",
              "                                        'min_samples_leaf': [40, 50],\n",
              "                                        'min_samples_split': [50, 100, 150],\n",
              "                                        'n_estimators': [50, 80, 100]},\n",
              "                   pre_dispatch='2*n_jobs', random_state=None, refit=True,\n",
              "                   return_train_score=False, scoring=None, verbose=2)"
            ]
          },
          "metadata": {
            "tags": []
          },
          "execution_count": 76
        }
      ]
    },
    {
      "cell_type": "code",
      "metadata": {
        "id": "G-8Cz5qLRafS",
        "colab": {
          "base_uri": "https://localhost:8080/"
        },
        "outputId": "dbe612ad-da01-4824-aad7-7354723cc9d7"
      },
      "source": [
        "#The best esitmators\n",
        "rf_random.best_estimator_"
      ],
      "execution_count": 77,
      "outputs": [
        {
          "output_type": "execute_result",
          "data": {
            "text/plain": [
              "RandomForestClassifier(bootstrap=True, ccp_alpha=0.0, class_weight=None,\n",
              "                       criterion='gini', max_depth=8, max_features='auto',\n",
              "                       max_leaf_nodes=None, max_samples=None,\n",
              "                       min_impurity_decrease=0.0, min_impurity_split=None,\n",
              "                       min_samples_leaf=50, min_samples_split=100,\n",
              "                       min_weight_fraction_leaf=0.0, n_estimators=50,\n",
              "                       n_jobs=None, oob_score=False, random_state=None,\n",
              "                       verbose=0, warm_start=False)"
            ]
          },
          "metadata": {
            "tags": []
          },
          "execution_count": 77
        }
      ]
    },
    {
      "cell_type": "code",
      "metadata": {
        "id": "iWBRKfyURirS"
      },
      "source": [
        "#Building optimal model on the best estimators\n",
        "rf_optimal_model = rf_random.best_estimator_"
      ],
      "execution_count": 78,
      "outputs": []
    },
    {
      "cell_type": "code",
      "metadata": {
        "id": "GhB6AV_XIEwl"
      },
      "source": [
        "# make predictions for test data\n",
        "y_pred_r = rf_optimal_model.predict(X_test)"
      ],
      "execution_count": 79,
      "outputs": []
    },
    {
      "cell_type": "code",
      "metadata": {
        "id": "yiD8oHvYRqZG",
        "colab": {
          "base_uri": "https://localhost:8080/"
        },
        "outputId": "a83cc037-536c-4a5f-c00c-ff487a0a64c0"
      },
      "source": [
        "# Training accuracy\n",
        "accuracy_score(y_train, rf_optimal_model.predict(X_train))*100"
      ],
      "execution_count": 80,
      "outputs": [
        {
          "output_type": "execute_result",
          "data": {
            "text/plain": [
              "72.75648144035299"
            ]
          },
          "metadata": {
            "tags": []
          },
          "execution_count": 80
        }
      ]
    },
    {
      "cell_type": "code",
      "metadata": {
        "id": "SYGAUVPuRxGy",
        "colab": {
          "base_uri": "https://localhost:8080/"
        },
        "outputId": "ce7d5a04-8981-48ae-d214-be0f88de02a6"
      },
      "source": [
        "# evaluate predictions\n",
        "accuracy = accuracy_score(y_test, y_pred_r)\n",
        "print(\"Accuracy: %.2f%%\" % (accuracy * 100.0))"
      ],
      "execution_count": 81,
      "outputs": [
        {
          "output_type": "stream",
          "text": [
            "Accuracy: 72.52%\n"
          ],
          "name": "stdout"
        }
      ]
    },
    {
      "cell_type": "code",
      "metadata": {
        "id": "xtvxKJ8pR19d",
        "colab": {
          "base_uri": "https://localhost:8080/"
        },
        "outputId": "ea1b7342-c7be-45e1-a56e-e129970ece3e"
      },
      "source": [
        "print(\"Precision:\", precision_score(y_test,y_pred_r,average='macro')*100)"
      ],
      "execution_count": 82,
      "outputs": [
        {
          "output_type": "stream",
          "text": [
            "Precision: 74.08434618326316\n"
          ],
          "name": "stdout"
        }
      ]
    },
    {
      "cell_type": "code",
      "metadata": {
        "id": "XA0tsDG6R8cj",
        "colab": {
          "base_uri": "https://localhost:8080/"
        },
        "outputId": "de47eec7-5764-414c-80f8-5fbf66b69be9"
      },
      "source": [
        "print(\"Recall:\",recall_score(y_test,y_pred_r,average='macro')*100)"
      ],
      "execution_count": 83,
      "outputs": [
        {
          "output_type": "stream",
          "text": [
            "Recall: 69.56553679572805\n"
          ],
          "name": "stdout"
        }
      ]
    },
    {
      "cell_type": "code",
      "metadata": {
        "id": "tsWregoDSBeN",
        "colab": {
          "base_uri": "https://localhost:8080/",
          "height": 297
        },
        "outputId": "b4e2ed24-1644-45f8-ab1a-0218021ec980"
      },
      "source": [
        "#For train\n",
        "plot_confusion_matrix(rf_optimal_model,X_train,y_train)"
      ],
      "execution_count": 84,
      "outputs": [
        {
          "output_type": "execute_result",
          "data": {
            "text/plain": [
              "<sklearn.metrics._plot.confusion_matrix.ConfusionMatrixDisplay at 0x7f61244e1c50>"
            ]
          },
          "metadata": {
            "tags": []
          },
          "execution_count": 84
        },
        {
          "output_type": "display_data",
          "data": {
            "image/png": "[encoded data removed]",
            "text/plain": [
              "<Figure size 432x288 with 2 Axes>"
            ]
          },
          "metadata": {
            "tags": [],
            "needs_background": "light"
          }
        }
      ]
    },
    {
      "cell_type": "code",
      "metadata": {
        "id": "hR3T1hniU3d4",
        "colab": {
          "base_uri": "https://localhost:8080/",
          "height": 297
        },
        "outputId": "a5fc46e0-dd9a-41cf-9330-3c5604adfe34"
      },
      "source": [
        "#For test\n",
        "plot_confusion_matrix(rf_optimal_model,X_test,y_test)"
      ],
      "execution_count": 85,
      "outputs": [
        {
          "output_type": "execute_result",
          "data": {
            "text/plain": [
              "<sklearn.metrics._plot.confusion_matrix.ConfusionMatrixDisplay at 0x7f61254f5e90>"
            ]
          },
          "metadata": {
            "tags": []
          },
          "execution_count": 85
        },
        {
          "output_type": "display_data",
          "data": {
            "image/png": "[encoded data removed]",
            "text/plain": [
              "<Figure size 432x288 with 2 Axes>"
            ]
          },
          "metadata": {
            "tags": [],
            "needs_background": "light"
          }
        }
      ]
    },
    {
      "cell_type": "markdown",
      "metadata": {
        "id": "1pQXNdSUlsYD"
      },
      "source": [
        "#XGBoost:"
      ]
    },
    {
      "cell_type": "code",
      "metadata": {
        "id": "i74zuJxhU94r"
      },
      "source": [
        "from xgboost import XGBClassifier"
      ],
      "execution_count": 86,
      "outputs": []
    },
    {
      "cell_type": "code",
      "metadata": {
        "id": "d_x-2jxIVesP",
        "colab": {
          "base_uri": "https://localhost:8080/"
        },
        "outputId": "06444a4e-f84f-4e27-95c6-fc73d274d1df"
      },
      "source": [
        "# Fitting Xtreme Gradient Classification to the Training set\n",
        "xgbclassifier = XGBClassifier(n_estimators = 10, criterion = 'entropy', random_state = 42)\n",
        "xgbclassifier.fit(X_train, y_train)"
      ],
      "execution_count": 87,
      "outputs": [
        {
          "output_type": "execute_result",
          "data": {
            "text/plain": [
              "XGBClassifier(base_score=0.5, booster='gbtree', colsample_bylevel=1,\n",
              "              colsample_bynode=1, colsample_bytree=1, criterion='entropy',\n",
              "              gamma=0, learning_rate=0.1, max_delta_step=0, max_depth=3,\n",
              "              min_child_weight=1, missing=None, n_estimators=10, n_jobs=1,\n",
              "              nthread=None, objective='multi:softprob', random_state=42,\n",
              "              reg_alpha=0, reg_lambda=1, scale_pos_weight=1, seed=None,\n",
              "              silent=None, subsample=1, verbosity=1)"
            ]
          },
          "metadata": {
            "tags": []
          },
          "execution_count": 87
        }
      ]
    },
    {
      "cell_type": "markdown",
      "metadata": {
        "id": "ROo2RrvBtcxw"
      },
      "source": [
        "##Metric scores:"
      ]
    },
    {
      "cell_type": "code",
      "metadata": {
        "id": "4mmc7w4fsxIH"
      },
      "source": [
        "# make predictions for test data\n",
        "y_pred_x = xgbclassifier.predict(X_test)"
      ],
      "execution_count": 88,
      "outputs": []
    },
    {
      "cell_type": "code",
      "metadata": {
        "colab": {
          "base_uri": "https://localhost:8080/"
        },
        "id": "3Rtl8vWut4al",
        "outputId": "c9201357-c6ce-4768-8cc1-649ecd05dd59"
      },
      "source": [
        "# Training accuracy\n",
        "accuracy_score(y_train, classifier.predict(X_train))*100"
      ],
      "execution_count": 89,
      "outputs": [
        {
          "output_type": "execute_result",
          "data": {
            "text/plain": [
              "98.31060572410016"
            ]
          },
          "metadata": {
            "tags": []
          },
          "execution_count": 89
        }
      ]
    },
    {
      "cell_type": "code",
      "metadata": {
        "colab": {
          "base_uri": "https://localhost:8080/"
        },
        "id": "Y9iro6Rnt_Ml",
        "outputId": "57cd607f-7b96-475e-e7dd-e707497e2c7d"
      },
      "source": [
        "# evaluate predictions\n",
        "accuracy = accuracy_score(y_test, y_pred_x)\n",
        "print(\"Accuracy: %.2f%%\" % (accuracy * 100.0))"
      ],
      "execution_count": 90,
      "outputs": [
        {
          "output_type": "stream",
          "text": [
            "Accuracy: 71.55%\n"
          ],
          "name": "stdout"
        }
      ]
    },
    {
      "cell_type": "code",
      "metadata": {
        "colab": {
          "base_uri": "https://localhost:8080/"
        },
        "id": "ZwQbjlkBuEiN",
        "outputId": "8123471d-4ef9-463c-bfc1-91e074a7b5cb"
      },
      "source": [
        "print(\"Precision:\", precision_score(y_test,y_pred_x,average='macro')*100)"
      ],
      "execution_count": 91,
      "outputs": [
        {
          "output_type": "stream",
          "text": [
            "Precision: 72.19403845212905\n"
          ],
          "name": "stdout"
        }
      ]
    },
    {
      "cell_type": "code",
      "metadata": {
        "id": "C__NZMl3VQxZ",
        "colab": {
          "base_uri": "https://localhost:8080/"
        },
        "outputId": "c27baffe-38e2-443f-db48-1ca2410c141d"
      },
      "source": [
        "# Number of trees\n",
        "n_estimators = [50,80,100]\n",
        "\n",
        "# Maximum depth of trees\n",
        "max_depth = [4,6,8]\n",
        "\n",
        "# Minimum number of samples required to split a node\n",
        "min_samples_split = [50,100,150]\n",
        "\n",
        "# Minimum number of samples required at each leaf node\n",
        "min_samples_leaf = [40,50]\n",
        "\n",
        "# HYperparameter Dict\n",
        "param_dict = {'n_estimators' : n_estimators,\n",
        "              'max_depth' : max_depth,\n",
        "              'min_samples_split' : min_samples_split,\n",
        "              'min_samples_leaf' : min_samples_leaf}\n",
        "\n",
        "# Create an instance of the XGBoost\n",
        "xgb_model = XGBClassifier(learning_rate=0.1,objective='multi:softmax')\n",
        "\n",
        "#RandomSearch\n",
        "xgb_random = RandomizedSearchCV(xgb_model,param_dict,verbose=2,cv=5)\n",
        "\n",
        "\n",
        "xgb_random.fit(X_train,y_train)\n"
      ],
      "execution_count": 94,
      "outputs": [
        {
          "output_type": "stream",
          "text": [
            "Fitting 5 folds for each of 10 candidates, totalling 50 fits\n",
            "[CV] n_estimators=50, min_samples_split=150, min_samples_leaf=50, max_depth=6 \n"
          ],
          "name": "stdout"
        },
        {
          "output_type": "stream",
          "text": [
            "[Parallel(n_jobs=1)]: Using backend SequentialBackend with 1 concurrent workers.\n"
          ],
          "name": "stderr"
        },
        {
          "output_type": "stream",
          "text": [
            "[CV]  n_estimators=50, min_samples_split=150, min_samples_leaf=50, max_depth=6, total=  13.7s\n",
            "[CV] n_estimators=50, min_samples_split=150, min_samples_leaf=50, max_depth=6 \n"
          ],
          "name": "stdout"
        },
        {
          "output_type": "stream",
          "text": [
            "[Parallel(n_jobs=1)]: Done   1 out of   1 | elapsed:   13.7s remaining:    0.0s\n"
          ],
          "name": "stderr"
        },
        {
          "output_type": "stream",
          "text": [
            "[CV]  n_estimators=50, min_samples_split=150, min_samples_leaf=50, max_depth=6, total=  13.6s\n",
            "[CV] n_estimators=50, min_samples_split=150, min_samples_leaf=50, max_depth=6 \n",
            "[CV]  n_estimators=50, min_samples_split=150, min_samples_leaf=50, max_depth=6, total=  13.6s\n",
            "[CV] n_estimators=50, min_samples_split=150, min_samples_leaf=50, max_depth=6 \n",
            "[CV]  n_estimators=50, min_samples_split=150, min_samples_leaf=50, max_depth=6, total=  13.6s\n",
            "[CV] n_estimators=50, min_samples_split=150, min_samples_leaf=50, max_depth=6 \n",
            "[CV]  n_estimators=50, min_samples_split=150, min_samples_leaf=50, max_depth=6, total=  13.7s\n",
            "[CV] n_estimators=50, min_samples_split=100, min_samples_leaf=50, max_depth=6 \n",
            "[CV]  n_estimators=50, min_samples_split=100, min_samples_leaf=50, max_depth=6, total=  13.6s\n",
            "[CV] n_estimators=50, min_samples_split=100, min_samples_leaf=50, max_depth=6 \n",
            "[CV]  n_estimators=50, min_samples_split=100, min_samples_leaf=50, max_depth=6, total=  13.6s\n",
            "[CV] n_estimators=50, min_samples_split=100, min_samples_leaf=50, max_depth=6 \n",
            "[CV]  n_estimators=50, min_samples_split=100, min_samples_leaf=50, max_depth=6, total=  13.5s\n",
            "[CV] n_estimators=50, min_samples_split=100, min_samples_leaf=50, max_depth=6 \n",
            "[CV]  n_estimators=50, min_samples_split=100, min_samples_leaf=50, max_depth=6, total=  13.5s\n",
            "[CV] n_estimators=50, min_samples_split=100, min_samples_leaf=50, max_depth=6 \n",
            "[CV]  n_estimators=50, min_samples_split=100, min_samples_leaf=50, max_depth=6, total=  13.5s\n",
            "[CV] n_estimators=50, min_samples_split=150, min_samples_leaf=50, max_depth=8 \n",
            "[CV]  n_estimators=50, min_samples_split=150, min_samples_leaf=50, max_depth=8, total=  19.1s\n",
            "[CV] n_estimators=50, min_samples_split=150, min_samples_leaf=50, max_depth=8 \n",
            "[CV]  n_estimators=50, min_samples_split=150, min_samples_leaf=50, max_depth=8, total=  19.3s\n",
            "[CV] n_estimators=50, min_samples_split=150, min_samples_leaf=50, max_depth=8 \n",
            "[CV]  n_estimators=50, min_samples_split=150, min_samples_leaf=50, max_depth=8, total=  19.0s\n",
            "[CV] n_estimators=50, min_samples_split=150, min_samples_leaf=50, max_depth=8 \n",
            "[CV]  n_estimators=50, min_samples_split=150, min_samples_leaf=50, max_depth=8, total=  19.2s\n",
            "[CV] n_estimators=50, min_samples_split=150, min_samples_leaf=50, max_depth=8 \n",
            "[CV]  n_estimators=50, min_samples_split=150, min_samples_leaf=50, max_depth=8, total=  19.1s\n",
            "[CV] n_estimators=80, min_samples_split=50, min_samples_leaf=50, max_depth=6 \n",
            "[CV]  n_estimators=80, min_samples_split=50, min_samples_leaf=50, max_depth=6, total=  20.9s\n",
            "[CV] n_estimators=80, min_samples_split=50, min_samples_leaf=50, max_depth=6 \n",
            "[CV]  n_estimators=80, min_samples_split=50, min_samples_leaf=50, max_depth=6, total=  21.3s\n",
            "[CV] n_estimators=80, min_samples_split=50, min_samples_leaf=50, max_depth=6 \n",
            "[CV]  n_estimators=80, min_samples_split=50, min_samples_leaf=50, max_depth=6, total=  21.3s\n",
            "[CV] n_estimators=80, min_samples_split=50, min_samples_leaf=50, max_depth=6 \n",
            "[CV]  n_estimators=80, min_samples_split=50, min_samples_leaf=50, max_depth=6, total=  21.2s\n",
            "[CV] n_estimators=80, min_samples_split=50, min_samples_leaf=50, max_depth=6 \n",
            "[CV]  n_estimators=80, min_samples_split=50, min_samples_leaf=50, max_depth=6, total=  21.1s\n",
            "[CV] n_estimators=100, min_samples_split=100, min_samples_leaf=50, max_depth=6 \n",
            "[CV]  n_estimators=100, min_samples_split=100, min_samples_leaf=50, max_depth=6, total=  25.8s\n",
            "[CV] n_estimators=100, min_samples_split=100, min_samples_leaf=50, max_depth=6 \n",
            "[CV]  n_estimators=100, min_samples_split=100, min_samples_leaf=50, max_depth=6, total=  26.0s\n",
            "[CV] n_estimators=100, min_samples_split=100, min_samples_leaf=50, max_depth=6 \n",
            "[CV]  n_estimators=100, min_samples_split=100, min_samples_leaf=50, max_depth=6, total=  26.2s\n",
            "[CV] n_estimators=100, min_samples_split=100, min_samples_leaf=50, max_depth=6 \n",
            "[CV]  n_estimators=100, min_samples_split=100, min_samples_leaf=50, max_depth=6, total=  25.9s\n",
            "[CV] n_estimators=100, min_samples_split=100, min_samples_leaf=50, max_depth=6 \n",
            "[CV]  n_estimators=100, min_samples_split=100, min_samples_leaf=50, max_depth=6, total=  25.9s\n",
            "[CV] n_estimators=80, min_samples_split=50, min_samples_leaf=50, max_depth=8 \n",
            "[CV]  n_estimators=80, min_samples_split=50, min_samples_leaf=50, max_depth=8, total=  29.4s\n",
            "[CV] n_estimators=80, min_samples_split=50, min_samples_leaf=50, max_depth=8 \n",
            "[CV]  n_estimators=80, min_samples_split=50, min_samples_leaf=50, max_depth=8, total=  29.7s\n",
            "[CV] n_estimators=80, min_samples_split=50, min_samples_leaf=50, max_depth=8 \n",
            "[CV]  n_estimators=80, min_samples_split=50, min_samples_leaf=50, max_depth=8, total=  29.6s\n",
            "[CV] n_estimators=80, min_samples_split=50, min_samples_leaf=50, max_depth=8 \n",
            "[CV]  n_estimators=80, min_samples_split=50, min_samples_leaf=50, max_depth=8, total=  29.5s\n",
            "[CV] n_estimators=80, min_samples_split=50, min_samples_leaf=50, max_depth=8 \n",
            "[CV]  n_estimators=80, min_samples_split=50, min_samples_leaf=50, max_depth=8, total=  29.5s\n",
            "[CV] n_estimators=100, min_samples_split=150, min_samples_leaf=40, max_depth=8 \n",
            "[CV]  n_estimators=100, min_samples_split=150, min_samples_leaf=40, max_depth=8, total=  36.3s\n",
            "[CV] n_estimators=100, min_samples_split=150, min_samples_leaf=40, max_depth=8 \n",
            "[CV]  n_estimators=100, min_samples_split=150, min_samples_leaf=40, max_depth=8, total=  36.4s\n",
            "[CV] n_estimators=100, min_samples_split=150, min_samples_leaf=40, max_depth=8 \n",
            "[CV]  n_estimators=100, min_samples_split=150, min_samples_leaf=40, max_depth=8, total=  36.2s\n",
            "[CV] n_estimators=100, min_samples_split=150, min_samples_leaf=40, max_depth=8 \n",
            "[CV]  n_estimators=100, min_samples_split=150, min_samples_leaf=40, max_depth=8, total=  36.2s\n",
            "[CV] n_estimators=100, min_samples_split=150, min_samples_leaf=40, max_depth=8 \n",
            "[CV]  n_estimators=100, min_samples_split=150, min_samples_leaf=40, max_depth=8, total=  36.2s\n",
            "[CV] n_estimators=80, min_samples_split=50, min_samples_leaf=50, max_depth=4 \n",
            "[CV]  n_estimators=80, min_samples_split=50, min_samples_leaf=50, max_depth=4, total=  13.4s\n",
            "[CV] n_estimators=80, min_samples_split=50, min_samples_leaf=50, max_depth=4 \n",
            "[CV]  n_estimators=80, min_samples_split=50, min_samples_leaf=50, max_depth=4, total=  13.5s\n",
            "[CV] n_estimators=80, min_samples_split=50, min_samples_leaf=50, max_depth=4 \n",
            "[CV]  n_estimators=80, min_samples_split=50, min_samples_leaf=50, max_depth=4, total=  13.4s\n",
            "[CV] n_estimators=80, min_samples_split=50, min_samples_leaf=50, max_depth=4 \n",
            "[CV]  n_estimators=80, min_samples_split=50, min_samples_leaf=50, max_depth=4, total=  13.5s\n",
            "[CV] n_estimators=80, min_samples_split=50, min_samples_leaf=50, max_depth=4 \n",
            "[CV]  n_estimators=80, min_samples_split=50, min_samples_leaf=50, max_depth=4, total=  13.5s\n",
            "[CV] n_estimators=100, min_samples_split=100, min_samples_leaf=40, max_depth=6 \n",
            "[CV]  n_estimators=100, min_samples_split=100, min_samples_leaf=40, max_depth=6, total=  25.8s\n",
            "[CV] n_estimators=100, min_samples_split=100, min_samples_leaf=40, max_depth=6 \n",
            "[CV]  n_estimators=100, min_samples_split=100, min_samples_leaf=40, max_depth=6, total=  26.0s\n",
            "[CV] n_estimators=100, min_samples_split=100, min_samples_leaf=40, max_depth=6 \n",
            "[CV]  n_estimators=100, min_samples_split=100, min_samples_leaf=40, max_depth=6, total=  26.0s\n",
            "[CV] n_estimators=100, min_samples_split=100, min_samples_leaf=40, max_depth=6 \n",
            "[CV]  n_estimators=100, min_samples_split=100, min_samples_leaf=40, max_depth=6, total=  25.9s\n",
            "[CV] n_estimators=100, min_samples_split=100, min_samples_leaf=40, max_depth=6 \n",
            "[CV]  n_estimators=100, min_samples_split=50, min_samples_leaf=40, max_depth=4, total=  16.7s\n",
            "[CV] n_estimators=100, min_samples_split=50, min_samples_leaf=40, max_depth=4 \n",
            "[CV]  n_estimators=100, min_samples_split=50, min_samples_leaf=40, max_depth=4, total=  16.6s\n",
            "[CV] n_estimators=100, min_samples_split=50, min_samples_leaf=40, max_depth=4 \n",
            "[CV]  n_estimators=100, min_samples_split=50, min_samples_leaf=40, max_depth=4, total=  16.7s\n",
            "[CV] n_estimators=100, min_samples_split=50, min_samples_leaf=40, max_depth=4 \n",
            "[CV]  n_estimators=100, min_samples_split=50, min_samples_leaf=40, max_depth=4, total=  16.7s\n",
            "[CV] n_estimators=100, min_samples_split=50, min_samples_leaf=40, max_depth=4 \n",
            "[CV]  n_estimators=100, min_samples_split=50, min_samples_leaf=40, max_depth=4, total=  16.7s\n"
          ],
          "name": "stdout"
        },
        {
          "output_type": "stream",
          "text": [
            "[Parallel(n_jobs=1)]: Done  50 out of  50 | elapsed: 17.9min finished\n"
          ],
          "name": "stderr"
        },
        {
          "output_type": "execute_result",
          "data": {
            "text/plain": [
              "RandomizedSearchCV(cv=5, error_score=nan,\n",
              "                   estimator=XGBClassifier(base_score=0.5, booster='gbtree',\n",
              "                                           colsample_bylevel=1,\n",
              "                                           colsample_bynode=1,\n",
              "                                           colsample_bytree=1, gamma=0,\n",
              "                                           learning_rate=0.1, max_delta_step=0,\n",
              "                                           max_depth=3, min_child_weight=1,\n",
              "                                           missing=None, n_estimators=100,\n",
              "                                           n_jobs=1, nthread=None,\n",
              "                                           objective='multi:softmax',\n",
              "                                           random_state=0, reg_alpha=0,\n",
              "                                           reg_lambda=1, scale_pos_weight=1,\n",
              "                                           seed=None, silent=None, subsample=1,\n",
              "                                           verbosity=1),\n",
              "                   iid='deprecated', n_iter=10, n_jobs=None,\n",
              "                   param_distributions={'max_depth': [4, 6, 8],\n",
              "                                        'min_samples_leaf': [40, 50],\n",
              "                                        'min_samples_split': [50, 100, 150],\n",
              "                                        'n_estimators': [50, 80, 100]},\n",
              "                   pre_dispatch='2*n_jobs', random_state=None, refit=True,\n",
              "                   return_train_score=False, scoring=None, verbose=2)"
            ]
          },
          "metadata": {
            "tags": []
          },
          "execution_count": 94
        }
      ]
    },
    {
      "cell_type": "code",
      "metadata": {
        "colab": {
          "base_uri": "https://localhost:8080/"
        },
        "id": "BMCud2y8wmE5",
        "outputId": "15d64b12-15b0-481a-b1b4-8b07fad69c83"
      },
      "source": [
        "#The best esitmators\n",
        "xgb_random.best_estimator_"
      ],
      "execution_count": 95,
      "outputs": [
        {
          "output_type": "execute_result",
          "data": {
            "text/plain": [
              "XGBClassifier(base_score=0.5, booster='gbtree', colsample_bylevel=1,\n",
              "              colsample_bynode=1, colsample_bytree=1, gamma=0,\n",
              "              learning_rate=0.1, max_delta_step=0, max_depth=6,\n",
              "              min_child_weight=1, min_samples_leaf=50, min_samples_split=100,\n",
              "              missing=None, n_estimators=100, n_jobs=1, nthread=None,\n",
              "              objective='multi:softprob', random_state=0, reg_alpha=0,\n",
              "              reg_lambda=1, scale_pos_weight=1, seed=None, silent=None,\n",
              "              subsample=1, verbosity=1)"
            ]
          },
          "metadata": {
            "tags": []
          },
          "execution_count": 95
        }
      ]
    },
    {
      "cell_type": "code",
      "metadata": {
        "id": "dNpmsb9yySpz"
      },
      "source": [
        "#Building optimal model on the best estimators\n",
        "xgb_optimal_model = xgb_random.best_estimator_"
      ],
      "execution_count": 96,
      "outputs": []
    },
    {
      "cell_type": "code",
      "metadata": {
        "id": "yOOZXFIryeof"
      },
      "source": [
        "# make predictions for test data\n",
        "y_pred_rx = xgb_optimal_model.predict(X_test)"
      ],
      "execution_count": 97,
      "outputs": []
    },
    {
      "cell_type": "markdown",
      "metadata": {
        "id": "WTWH77ruzO0i"
      },
      "source": [
        "##Metrics for scoring:"
      ]
    },
    {
      "cell_type": "code",
      "metadata": {
        "colab": {
          "base_uri": "https://localhost:8080/"
        },
        "id": "2hOw4GZqyha2",
        "outputId": "7e757117-870d-48ac-95fe-94403fffe566"
      },
      "source": [
        "# Training accuracy\n",
        "accuracy_score(y_train, xgb_optimal_model.predict(X_train))*100"
      ],
      "execution_count": 98,
      "outputs": [
        {
          "output_type": "execute_result",
          "data": {
            "text/plain": [
              "74.79678408030915"
            ]
          },
          "metadata": {
            "tags": []
          },
          "execution_count": 98
        }
      ]
    },
    {
      "cell_type": "code",
      "metadata": {
        "colab": {
          "base_uri": "https://localhost:8080/"
        },
        "id": "OY6TZgoCyqSq",
        "outputId": "1916ed0a-4b52-4449-fb5a-295296a7c3b8"
      },
      "source": [
        "# evaluate predictions\n",
        "accuracy = accuracy_score(y_test, y_pred_rx)\n",
        "print(\"Accuracy: %.2f%%\" % (accuracy * 100.0))\n",
        "\n",
        "print(\"Precision:\", precision_score(y_test,y_pred_rx,average='macro')*100)\n",
        "\n",
        "print(\"Recall:\",recall_score(y_test,y_pred_rx,average='macro')*100)"
      ],
      "execution_count": 99,
      "outputs": [
        {
          "output_type": "stream",
          "text": [
            "Accuracy: 73.26%\n",
            "Precision: 74.28117681537243\n",
            "Recall: 70.92069911578702\n"
          ],
          "name": "stdout"
        }
      ]
    },
    {
      "cell_type": "code",
      "metadata": {
        "colab": {
          "base_uri": "https://localhost:8080/",
          "height": 297
        },
        "id": "cvSei5rHy_u3",
        "outputId": "00cb6a1e-ab59-45ad-dc84-f6c63a148755"
      },
      "source": [
        "#For train\n",
        "plot_confusion_matrix(xgb_optimal_model,X_train,y_train)"
      ],
      "execution_count": 100,
      "outputs": [
        {
          "output_type": "execute_result",
          "data": {
            "text/plain": [
              "<sklearn.metrics._plot.confusion_matrix.ConfusionMatrixDisplay at 0x7f6124378b50>"
            ]
          },
          "metadata": {
            "tags": []
          },
          "execution_count": 100
        },
        {
          "output_type": "display_data",
          "data": {
            "image/png": "[encoded data removed]",
            "text/plain": [
              "<Figure size 432x288 with 2 Axes>"
            ]
          },
          "metadata": {
            "tags": [],
            "needs_background": "light"
          }
        }
      ]
    },
    {
      "cell_type": "code",
      "metadata": {
        "colab": {
          "base_uri": "https://localhost:8080/",
          "height": 299
        },
        "id": "kj6u6Rc8zGqa",
        "outputId": "1285446d-d501-48d5-bc9e-bdf3ac9e7b38"
      },
      "source": [
        "#For test\n",
        "plot_confusion_matrix(xgb_optimal_model,X_test,y_test)"
      ],
      "execution_count": 101,
      "outputs": [
        {
          "output_type": "execute_result",
          "data": {
            "text/plain": [
              "<sklearn.metrics._plot.confusion_matrix.ConfusionMatrixDisplay at 0x7f611b548050>"
            ]
          },
          "metadata": {
            "tags": []
          },
          "execution_count": 101
        },
        {
          "output_type": "display_data",
          "data": {
            "image/png": "[encoded data removed]",
            "text/plain": [
              "<Figure size 432x288 with 2 Axes>"
            ]
          },
          "metadata": {
            "tags": [],
            "needs_background": "light"
          }
        }
      ]
    },
    {
      "cell_type": "markdown",
      "metadata": {
        "id": "jLIJmk891w1W"
      },
      "source": [
        "#Adaboost:"
      ]
    },
    {
      "cell_type": "code",
      "metadata": {
        "id": "NFL3w7D41WG6"
      },
      "source": [
        "#import library\n",
        "\n",
        "from sklearn.ensemble import AdaBoostClassifier"
      ],
      "execution_count": 102,
      "outputs": []
    },
    {
      "cell_type": "code",
      "metadata": {
        "colab": {
          "base_uri": "https://localhost:8080/"
        },
        "id": "5RD2Fkyy11lI",
        "outputId": "ae75b4dd-fcc4-47e9-84d9-4e282c9d2f32"
      },
      "source": [
        "# Fitting Adaboost Classification to the Training set\n",
        "adbclassifier = AdaBoostClassifier(n_estimators = 50, random_state = 42)\n",
        "adbclassifier.fit(X_train, y_train)"
      ],
      "execution_count": 105,
      "outputs": [
        {
          "output_type": "execute_result",
          "data": {
            "text/plain": [
              "AdaBoostClassifier(algorithm='SAMME.R', base_estimator=None, learning_rate=1.0,\n",
              "                   n_estimators=50, random_state=42)"
            ]
          },
          "metadata": {
            "tags": []
          },
          "execution_count": 105
        }
      ]
    },
    {
      "cell_type": "code",
      "metadata": {
        "id": "_ACHpVkj3WfB"
      },
      "source": [
        ""
      ],
      "execution_count": null,
      "outputs": []
    },
    {
      "cell_type": "code",
      "metadata": {
        "colab": {
          "base_uri": "https://localhost:8080/"
        },
        "id": "IqpCifqN2AS3",
        "outputId": "14a5f9b1-771a-45cf-c3f8-96aac6a13bb2"
      },
      "source": [
        "# Training accuracy\n",
        "accuracy_score(y_train, classifier.predict(X_train))*100"
      ],
      "execution_count": 106,
      "outputs": [
        {
          "output_type": "execute_result",
          "data": {
            "text/plain": [
              "98.31060572410016"
            ]
          },
          "metadata": {
            "tags": []
          },
          "execution_count": 106
        }
      ]
    },
    {
      "cell_type": "code",
      "metadata": {
        "id": "na-x8p_A3VkB"
      },
      "source": [
        ""
      ],
      "execution_count": null,
      "outputs": []
    }
  ]
}